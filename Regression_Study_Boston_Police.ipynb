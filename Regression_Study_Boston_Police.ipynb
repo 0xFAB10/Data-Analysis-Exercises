{
  "cells": [
    {
      "cell_type": "markdown",
      "metadata": {
        "id": "view-in-github",
        "colab_type": "text"
      },
      "source": [
        "<a href=\"https://colab.research.google.com/github/0xFAB10/Data-Analysis-Exercises/blob/main/Regression_Study_Boston_Police.ipynb\" target=\"_parent\"><img src=\"https://colab.research.google.com/assets/colab-badge.svg\" alt=\"Open In Colab\"/></a>"
      ]
    },
    {
      "cell_type": "code",
      "execution_count": 1,
      "metadata": {
        "id": "-9vQXLC912BZ"
      },
      "outputs": [],
      "source": [
        "import pandas as pd\n",
        "import numpy as np\n",
        "import statsmodels.formula.api as smf\n",
        "from sklearn.model_selection import train_test_split"
      ]
    },
    {
      "cell_type": "code",
      "execution_count": 2,
      "metadata": {
        "id": "iUJ6UMOP12Bg"
      },
      "outputs": [],
      "source": [
        "rawBostonData = pd.read_csv\\\n",
        "        ('https://raw.githubusercontent.com'\\\n",
        "            '/PacktWorkshops/The-Data-Science-Workshop'\\\n",
        "            '/master/Chapter02/Dataset/Boston.csv')"
      ]
    },
    {
      "cell_type": "code",
      "execution_count": 3,
      "metadata": {
        "id": "BLdBSk0K12Bi"
      },
      "outputs": [],
      "source": [
        "rawBostonData = rawBostonData.dropna()\n",
        "rawBostonData = rawBostonData.drop_duplicates()"
      ]
    },
    {
      "cell_type": "code",
      "execution_count": 4,
      "metadata": {
        "id": "PHKVoYLs12Bk"
      },
      "outputs": [],
      "source": [
        "renamedBostonData = rawBostonData.rename(\n",
        "     columns = {\n",
        "        'CRIM':'crimeRatePerCapita',\n",
        "        ' ZN ':'landOver25K_sqft',\n",
        "        'INDUS ':'non-retailLandProptn',\n",
        "        'CHAS':'riverDummy',\n",
        "        'NOX':'nitrixOxide_pp10m',\n",
        "        'RM':'AvgNo.RoomsPerDwelling',\n",
        "        'AGE':'ProptnOwnerOccupied',\n",
        "        'DIS':'weightedDist',\n",
        "        'RAD':'radialHighwaysAccess',\n",
        "        'TAX':'propTaxRate_per10K',\n",
        "        'PTRATIO':'pupilTeacherRatio',\n",
        "        'LSTAT':'pctLowerStatus',\n",
        "        'MEDV':'medianValue_Ks'\n",
        "    }\n",
        ")"
      ]
    },
    {
      "cell_type": "code",
      "execution_count": 5,
      "metadata": {
        "id": "MFQXe0rs12Bm"
      },
      "outputs": [],
      "source": [
        "X = renamedBostonData.drop('crimeRatePerCapita', axis=1)\n",
        "y = renamedBostonData[['crimeRatePerCapita']]\n",
        "X_train, X_test, y_train, y_test = train_test_split(\n",
        "    X, y,\n",
        "    test_size = 0.3,\n",
        "    random_state = 10\n",
        ")\n",
        "train_data = pd.concat([X_train, y_train], axis = 1)\n",
        "test_data = pd.concat([X_test, y_test], axis = 1)"
      ]
    },
    {
      "cell_type": "code",
      "execution_count": 6,
      "metadata": {
        "id": "l3XsfySU12Bo"
      },
      "outputs": [],
      "source": [
        "logLinearModel = smf.ols(\n",
        "    formula = 'np.log(crimeRatePerCapita) ~ medianValue_Ks',\n",
        "    data = train_data\n",
        ")\n",
        "logLinearModResult = logLinearModel.fit()"
      ]
    },
    {
      "cell_type": "code",
      "execution_count": 7,
      "metadata": {
        "colab": {
          "base_uri": "https://localhost:8080/"
        },
        "id": "PdfKuMWL12Bp",
        "outputId": "7acb267c-b995-4860-a163-645fec95c04f"
      },
      "outputs": [
        {
          "output_type": "stream",
          "name": "stdout",
          "text": [
            "                                OLS Regression Results                                \n",
            "======================================================================================\n",
            "Dep. Variable:     np.log(crimeRatePerCapita)   R-squared:                       0.238\n",
            "Model:                                    OLS   Adj. R-squared:                  0.236\n",
            "Method:                         Least Squares   F-statistic:                     109.9\n",
            "Date:                        Fri, 27 Jan 2023   Prob (F-statistic):           1.48e-22\n",
            "Time:                                20:05:02   Log-Likelihood:                -727.67\n",
            "No. Observations:                         354   AIC:                             1459.\n",
            "Df Residuals:                             352   BIC:                             1467.\n",
            "Df Model:                                   1                                         \n",
            "Covariance Type:                    nonrobust                                         \n",
            "==================================================================================\n",
            "                     coef    std err          t      P>|t|      [0.025      0.975]\n",
            "----------------------------------------------------------------------------------\n",
            "Intercept          1.9107      0.271      7.062      0.000       1.379       2.443\n",
            "medianValue_Ks    -0.1198      0.011    -10.482      0.000      -0.142      -0.097\n",
            "==============================================================================\n",
            "Omnibus:                       11.420   Durbin-Watson:                   1.907\n",
            "Prob(Omnibus):                  0.003   Jarque-Bera (JB):               10.764\n",
            "Skew:                           0.376   Prob(JB):                      0.00460\n",
            "Kurtosis:                       2.594   Cond. No.                         63.7\n",
            "==============================================================================\n",
            "\n",
            "Notes:\n",
            "[1] Standard Errors assume that the covariance matrix of the errors is correctly specified.\n"
          ]
        }
      ],
      "source": [
        "print(logLinearModResult.summary())"
      ]
    },
    {
      "cell_type": "code",
      "execution_count": 8,
      "metadata": {
        "colab": {
          "base_uri": "https://localhost:8080/",
          "height": 265
        },
        "id": "lQzsM7sY12Bs",
        "outputId": "1ce83374-c57b-443f-c5fb-d1e3b20f9cb4"
      },
      "outputs": [
        {
          "output_type": "display_data",
          "data": {
            "text/plain": [
              "<Figure size 432x288 with 1 Axes>"
            ],
            "image/png": "[encoded data removed]"
          },
          "metadata": {
            "needs_background": "light"
          }
        }
      ],
      "source": [
        "import matplotlib.pyplot as plt\n",
        "# Linear equation of coefficients\n",
        "# y = intercept + ( medianValue_Ks * x )\n",
        "x = np.linspace(0.00632, 88.97620, 500)\n",
        "y = 1.9107 - 0.1198*x\n",
        "plt.plot(x,y, '-r')\n",
        "plt.grid()\n",
        "plt.show()"
      ]
    }
  ],
  "metadata": {
    "kernelspec": {
      "display_name": "base",
      "language": "python",
      "name": "python3"
    },
    "language_info": {
      "codemirror_mode": {
        "name": "ipython",
        "version": 3
      },
      "file_extension": ".py",
      "mimetype": "text/x-python",
      "name": "python",
      "nbconvert_exporter": "python",
      "pygments_lexer": "ipython3",
      "version": "3.9.15 (main, Nov 24 2022, 14:39:17) [MSC v.1916 64 bit (AMD64)]"
    },
    "orig_nbformat": 4,
    "vscode": {
      "interpreter": {
        "hash": "bb3b8d224a3f7697ec28df6f22845cf1706a46a9574859cf22fe893ca1adb7bb"
      }
    },
    "colab": {
      "provenance": [],
      "include_colab_link": true
    }
  },
  "nbformat": 4,
  "nbformat_minor": 0
}
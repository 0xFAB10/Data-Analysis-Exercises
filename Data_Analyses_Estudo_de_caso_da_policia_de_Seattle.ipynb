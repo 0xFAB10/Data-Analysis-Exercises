{
  "nbformat": 4,
  "nbformat_minor": 0,
  "metadata": {
    "colab": {
      "name": "Data Analyses - Estudo de caso da policia de Seattle.ipynb",
      "provenance": [],
      "toc_visible": true,
      "mount_file_id": "1MqVxqbGy73F-QBK6tKlAGLePMKOw7Up8",
      "authorship_tag": "ABX9TyPOt+WjLFerNh73oNYbo3eB",
      "include_colab_link": true
    },
    "kernelspec": {
      "name": "python3",
      "display_name": "Python 3"
    },
    "language_info": {
      "name": "python"
    }
  },
  "cells": [
    {
      "cell_type": "markdown",
      "metadata": {
        "id": "view-in-github",
        "colab_type": "text"
      },
      "source": [
        "<a href=\"https://colab.research.google.com/github/0xFAB10/Data-Analysis-Exercises/blob/main/Data_Analyses_Estudo_de_caso_da_policia_de_Seattle.ipynb\" target=\"_parent\"><img src=\"https://colab.research.google.com/assets/colab-badge.svg\" alt=\"Open In Colab\"/></a>"
      ]
    },
    {
      "cell_type": "markdown",
      "source": [
        "Estudo de dados disponibilizados pela policia de seatle para seleção de bolsista da GREat"
      ],
      "metadata": {
        "id": "DxEN2s3TjK41"
      }
    },
    {
      "cell_type": "markdown",
      "source": [
        "# Imports"
      ],
      "metadata": {
        "id": "CpEI9d_afyWp"
      }
    },
    {
      "cell_type": "markdown",
      "source": [
        "## Importação de bibliotecas"
      ],
      "metadata": {
        "id": "sSFoSADZgo6w"
      }
    },
    {
      "cell_type": "code",
      "execution_count": 137,
      "metadata": {
        "id": "UHLZ7n1GsxdG"
      },
      "outputs": [],
      "source": [
        "import pandas as pd\n",
        "import matplotlib.pyplot as plt\n",
        "import seaborn as sns\n",
        "\n",
        "from datetime import date\n",
        "\n",
        "sns.set_style('darkgrid')\n",
        "%matplotlib inline"
      ]
    },
    {
      "cell_type": "markdown",
      "source": [
        "## Importação do dataframe"
      ],
      "metadata": {
        "id": "Wap2o_uwgsig"
      }
    },
    {
      "cell_type": "code",
      "source": [
        "df = pd.read_csv('/content/drive/MyDrive/GREat/Use_Of_Force.csv', index_col='ID').sort_index()"
      ],
      "metadata": {
        "id": "ssWjAQoVgwAT"
      },
      "execution_count": 138,
      "outputs": []
    },
    {
      "cell_type": "markdown",
      "source": [
        "# Visualização de dados"
      ],
      "metadata": {
        "id": "d9qG_yO5gO2P"
      }
    },
    {
      "cell_type": "code",
      "source": [
        "df.head(50)"
      ],
      "metadata": {
        "colab": {
          "base_uri": "https://localhost:8080/",
          "height": 1000
        },
        "id": "QjoYCBR_tNx4",
        "outputId": "9392a903-6caf-4d94-d233-48aee5ac1fe7"
      },
      "execution_count": 139,
      "outputs": [
        {
          "output_type": "execute_result",
          "data": {
            "text/plain": [
              "                        Incident_Num           Incident_Type  \\\n",
              "ID                                                             \n",
              "2014UOF-0001-1377-203            251  Level 1 - Use of Force   \n",
              "2014UOF-0002-1098-166            218  Level 1 - Use of Force   \n",
              "2014UOF-0003-1031-125            178  Level 1 - Use of Force   \n",
              "2014UOF-0004-767-126             179  Level 1 - Use of Force   \n",
              "2014UOF-0005-1473-172            223  Level 1 - Use of Force   \n",
              "2014UOF-0006-1216-178            229  Level 1 - Use of Force   \n",
              "2014UOF-0007-810-191             240  Level 1 - Use of Force   \n",
              "2014UOF-0008-1178-205            254  Level 1 - Use of Force   \n",
              "2014UOF-0009-1464-191            239  Level 1 - Use of Force   \n",
              "2014UOF-0010-1311-204            253  Level 1 - Use of Force   \n",
              "2014UOF-0011-1233-223            284  Level 2 - Use of Force   \n",
              "2014UOF-0012-1464-223            271  Level 2 - Use of Force   \n",
              "2014UOF-0013-147-245             292  Level 1 - Use of Force   \n",
              "2014UOF-0014-1202-245            293  Level 1 - Use of Force   \n",
              "2014UOF-0015-1031-169            219  Level 1 - Use of Force   \n",
              "2014UOF-0016-1274-170            220  Level 1 - Use of Force   \n",
              "2014UOF-0017-1233-171            222  Level 1 - Use of Force   \n",
              "2014UOF-0018-77-245              291  Level 1 - Use of Force   \n",
              "2014UOF-0019-1274-240            285  Level 1 - Use of Force   \n",
              "2014UOF-0020-996-257             305  Level 3 - Use of Force   \n",
              "2014UOF-0021-1339-257            306  Level 1 - Use of Force   \n",
              "2014UOF-0022-1334-1792           385           Level 3 - OIS   \n",
              "2014UOF-0024-1589-313            404  Level 1 - Use of Force   \n",
              "2014UOF-0025-1296-313            364  Level 1 - Use of Force   \n",
              "2014UOF-0026-255-313             361  Level 1 - Use of Force   \n",
              "2014UOF-0027-1282-303            357  Level 1 - Use of Force   \n",
              "2014UOF-0028-1391-298            352  Level 1 - Use of Force   \n",
              "2014UOF-0029-1233-240            286  Level 1 - Use of Force   \n",
              "2014UOF-0030-1207-265            337  Level 1 - Use of Force   \n",
              "2014UOF-0031-1233-290            340  Level 3 - Use of Force   \n",
              "2014UOF-0032-1311-290            339  Level 3 - Use of Force   \n",
              "2014UOF-0033-1258-365            409  Level 1 - Use of Force   \n",
              "2014UOF-0034-1234-365            410  Level 1 - Use of Force   \n",
              "2014UOF-0035-125-384             435  Level 2 - Use of Force   \n",
              "2014UOF-0036-766-312             362  Level 1 - Use of Force   \n",
              "2014UOF-0037-1183-317            369  Level 1 - Use of Force   \n",
              "2014UOF-0038-1274-291            341  Level 2 - Use of Force   \n",
              "2014UOF-0039-1178-290            342  Level 3 - Use of Force   \n",
              "2014UOF-0040-1430-301            349  Level 2 - Use of Force   \n",
              "2014UOF-0041-878-301             350  Level 2 - Use of Force   \n",
              "2014UOF-0042-125-387             437  Level 1 - Use of Force   \n",
              "2014UOF-0043-585-454             497  Level 1 - Use of Force   \n",
              "2014UOF-0044-960-433             479  Level 3 - Use of Force   \n",
              "2014UOF-0045-521-433             477  Level 2 - Use of Force   \n",
              "2014UOF-0046-68-433              475  Level 2 - Use of Force   \n",
              "2014UOF-0047-1327-433            474  Level 2 - Use of Force   \n",
              "2014UOF-0049-927-362             403  Level 2 - Use of Force   \n",
              "2014UOF-0050-1296-362            405  Level 2 - Use of Force   \n",
              "2014UOF-0051-1229-362            406  Level 2 - Use of Force   \n",
              "2014UOF-0052-1607-362            407  Level 2 - Use of Force   \n",
              "\n",
              "                             Occured_date_time   Precinct   Sector Beat  \\\n",
              "ID                                                                        \n",
              "2014UOF-0001-1377-203   06/07/2014 12:09:00 AM       East  CHARLIE   C2   \n",
              "2014UOF-0002-1098-166   05/30/2014 02:06:00 PM       East   GEORGE   G1   \n",
              "2014UOF-0003-1031-125   05/23/2014 05:24:00 PM       West     KING   K3   \n",
              "2014UOF-0004-767-126    05/26/2014 12:10:00 AM       East   EDWARD   E2   \n",
              "2014UOF-0005-1473-172   06/01/2014 04:03:00 PM      South   ROBERT   R1   \n",
              "2014UOF-0006-1216-178   06/02/2014 05:08:00 AM       West     KING   K1   \n",
              "2014UOF-0007-810-191    06/04/2014 10:10:00 PM       East   GEORGE   G3   \n",
              "2014UOF-0008-1178-205   06/07/2014 03:05:00 AM       West     KING   K3   \n",
              "2014UOF-0009-1464-191   06/04/2014 10:07:00 PM       East   GEORGE   G3   \n",
              "2014UOF-0010-1311-204   06/07/2014 03:05:00 AM       West     KING   K3   \n",
              "2014UOF-0011-1233-223   06/11/2014 02:15:00 AM       West     KING   K3   \n",
              "2014UOF-0012-1464-223   06/11/2014 02:15:00 AM       West     KING   K3   \n",
              "2014UOF-0013-147-245    06/17/2014 06:21:00 PM       East   GEORGE   G3   \n",
              "2014UOF-0014-1202-245   06/17/2014 06:30:00 PM       East   GEORGE   G3   \n",
              "2014UOF-0015-1031-169   05/30/2014 11:23:00 PM       East  CHARLIE   C1   \n",
              "2014UOF-0016-1274-170   05/30/2014 11:16:00 PM       East  CHARLIE   C1   \n",
              "2014UOF-0017-1233-171   05/30/2014 11:19:00 PM       East  CHARLIE   C1   \n",
              "2014UOF-0018-77-245     06/17/2014 06:16:00 PM       East   GEORGE   G3   \n",
              "2014UOF-0019-1274-240   06/16/2014 09:22:00 PM       East   GEORGE   G1   \n",
              "2014UOF-0020-996-257    06/22/2014 12:29:00 AM       West     KING   K3   \n",
              "2014UOF-0021-1339-257   06/22/2014 12:29:00 AM       West     KING   K3   \n",
              "2014UOF-0022-1334-1792  07/01/2014 10:43:00 PM      South      SAM   S1   \n",
              "2014UOF-0024-1589-313   06/28/2014 10:57:00 PM      North  LINCOLN   L1   \n",
              "2014UOF-0025-1296-313   06/28/2014 10:55:00 PM      North  LINCOLN   L1   \n",
              "2014UOF-0026-255-313    06/28/2014 11:10:00 PM      North  LINCOLN   L1   \n",
              "2014UOF-0027-1282-303   06/27/2014 10:30:00 PM      North    UNION   U2   \n",
              "2014UOF-0028-1391-298   06/27/2014 12:30:00 AM      North  LINCOLN   L2   \n",
              "2014UOF-0029-1233-240   06/16/2014 09:22:00 PM       East   GEORGE   G1   \n",
              "2014UOF-0030-1207-265   06/22/2014 12:33:00 AM       East   GEORGE   G3   \n",
              "2014UOF-0031-1233-290   06/25/2014 11:40:00 PM       West    DAVID   D3   \n",
              "2014UOF-0032-1311-290   06/25/2014 11:30:00 PM       West    DAVID   D3   \n",
              "2014UOF-0033-1258-365   07/04/2014 10:20:00 PM  Southwest    FRANK   F2   \n",
              "2014UOF-0034-1234-365   07/04/2014 10:20:00 PM  Southwest    FRANK   F2   \n",
              "2014UOF-0035-125-384    07/08/2014 09:17:00 PM       East   EDWARD   E1   \n",
              "2014UOF-0036-766-312    06/29/2014 01:01:00 PM       West    DAVID   D1   \n",
              "2014UOF-0037-1183-317   06/29/2014 01:01:00 PM       West    DAVID   D1   \n",
              "2014UOF-0038-1274-291   06/25/2014 11:30:00 PM       West    DAVID   D3   \n",
              "2014UOF-0039-1178-290   06/25/2014 11:30:00 PM       West    DAVID   D3   \n",
              "2014UOF-0040-1430-301   06/26/2014 03:03:00 PM      North     JOHN   J3   \n",
              "2014UOF-0041-878-301    06/26/2014 03:03:00 PM      North     JOHN   J3   \n",
              "2014UOF-0042-125-387    07/09/2014 12:13:00 AM       East  CHARLIE   C3   \n",
              "2014UOF-0043-585-454    07/15/2014 04:04:00 AM      North  LINCOLN   L1   \n",
              "2014UOF-0044-960-433    07/12/2014 11:42:00 PM       West    DAVID   D1   \n",
              "2014UOF-0045-521-433    07/12/2014 11:40:00 PM       West    DAVID   D1   \n",
              "2014UOF-0046-68-433     07/12/2014 11:42:00 PM       West    DAVID   D1   \n",
              "2014UOF-0047-1327-433   07/12/2014 11:42:00 PM       West    DAVID   D1   \n",
              "2014UOF-0049-927-362    07/03/2014 10:15:00 PM      North     NORA   N2   \n",
              "2014UOF-0050-1296-362   07/03/2014 10:15:00 PM      North     NORA   N2   \n",
              "2014UOF-0051-1229-362   07/03/2014 10:15:00 PM      North     NORA   N2   \n",
              "2014UOF-0052-1607-362   07/03/2014 10:15:00 PM      North     NORA   N2   \n",
              "\n",
              "                        Officer_ID  Subject_ID                   Subject_Race  \\\n",
              "ID                                                                              \n",
              "2014UOF-0001-1377-203         1594         203      Black or African American   \n",
              "2014UOF-0002-1098-166         1673         166                          White   \n",
              "2014UOF-0003-1031-125         1690         125                          Asian   \n",
              "2014UOF-0004-767-126           953         126      Black or African American   \n",
              "2014UOF-0005-1473-172         1145         172      Black or African American   \n",
              "2014UOF-0006-1216-178         1783         178                  Not Specified   \n",
              "2014UOF-0007-810-191           694         191                  Not Specified   \n",
              "2014UOF-0008-1178-205         1662         205      Black or African American   \n",
              "2014UOF-0009-1464-191         1141         191                  Not Specified   \n",
              "2014UOF-0010-1311-204         1622         204      Black or African American   \n",
              "2014UOF-0011-1233-223         1640         223                  Not Specified   \n",
              "2014UOF-0012-1464-223         1141         223                  Not Specified   \n",
              "2014UOF-0013-147-245          1542         245      Black or African American   \n",
              "2014UOF-0014-1202-245         1635         245      Black or African American   \n",
              "2014UOF-0015-1031-169         1690         169                          White   \n",
              "2014UOF-0016-1274-170         1604         170  American Indian/Alaska Native   \n",
              "2014UOF-0017-1233-171         1640         171  American Indian/Alaska Native   \n",
              "2014UOF-0018-77-245           1561         245      Black or African American   \n",
              "2014UOF-0019-1274-240         1604         240      Black or African American   \n",
              "2014UOF-0020-996-257           408         257      Black or African American   \n",
              "2014UOF-0021-1339-257         1577         257      Black or African American   \n",
              "2014UOF-0022-1334-1792        1575        1786                          White   \n",
              "2014UOF-0024-1589-313          338         312      Black or African American   \n",
              "2014UOF-0025-1296-313         1763         312      Black or African American   \n",
              "2014UOF-0026-255-313           827         312      Black or African American   \n",
              "2014UOF-0027-1282-303         1611         302                          White   \n",
              "2014UOF-0028-1391-298         1719         297                          White   \n",
              "2014UOF-0029-1233-240         1640         240      Black or African American   \n",
              "2014UOF-0030-1207-265         1637         265                          White   \n",
              "2014UOF-0031-1233-290         1640         289      Black or African American   \n",
              "2014UOF-0032-1311-290         1622         289      Black or African American   \n",
              "2014UOF-0033-1258-365         1749         364      Black or African American   \n",
              "2014UOF-0034-1234-365         1641         364      Black or African American   \n",
              "2014UOF-0035-125-384          1539         383                          White   \n",
              "2014UOF-0036-766-312           948         311                          White   \n",
              "2014UOF-0037-1183-317         1666         316                          White   \n",
              "2014UOF-0038-1274-291         1604         290      Black or African American   \n",
              "2014UOF-0039-1178-290         1662         289      Black or African American   \n",
              "2014UOF-0040-1430-301         1132         300                          White   \n",
              "2014UOF-0041-878-301           967         300                          White   \n",
              "2014UOF-0042-125-387          1539         386                          White   \n",
              "2014UOF-0043-585-454           478         453                          White   \n",
              "2014UOF-0044-960-433           927         432                          White   \n",
              "2014UOF-0045-521-433           498         432                          White   \n",
              "2014UOF-0046-68-433           1725         432                          White   \n",
              "2014UOF-0047-1327-433         1738         432                          White   \n",
              "2014UOF-0049-927-362           672         361                          White   \n",
              "2014UOF-0050-1296-362         1763         361                          White   \n",
              "2014UOF-0051-1229-362         1791         361                          White   \n",
              "2014UOF-0052-1607-362          590         361                          White   \n",
              "\n",
              "                       Subject_Gender  \n",
              "ID                                     \n",
              "2014UOF-0001-1377-203            Male  \n",
              "2014UOF-0002-1098-166            Male  \n",
              "2014UOF-0003-1031-125          Female  \n",
              "2014UOF-0004-767-126             Male  \n",
              "2014UOF-0005-1473-172            Male  \n",
              "2014UOF-0006-1216-178            Male  \n",
              "2014UOF-0007-810-191           Female  \n",
              "2014UOF-0008-1178-205            Male  \n",
              "2014UOF-0009-1464-191          Female  \n",
              "2014UOF-0010-1311-204            Male  \n",
              "2014UOF-0011-1233-223            Male  \n",
              "2014UOF-0012-1464-223            Male  \n",
              "2014UOF-0013-147-245             Male  \n",
              "2014UOF-0014-1202-245            Male  \n",
              "2014UOF-0015-1031-169            Male  \n",
              "2014UOF-0016-1274-170            Male  \n",
              "2014UOF-0017-1233-171            Male  \n",
              "2014UOF-0018-77-245              Male  \n",
              "2014UOF-0019-1274-240            Male  \n",
              "2014UOF-0020-996-257             Male  \n",
              "2014UOF-0021-1339-257            Male  \n",
              "2014UOF-0022-1334-1792           Male  \n",
              "2014UOF-0024-1589-313            Male  \n",
              "2014UOF-0025-1296-313            Male  \n",
              "2014UOF-0026-255-313             Male  \n",
              "2014UOF-0027-1282-303          Female  \n",
              "2014UOF-0028-1391-298            Male  \n",
              "2014UOF-0029-1233-240            Male  \n",
              "2014UOF-0030-1207-265            Male  \n",
              "2014UOF-0031-1233-290            Male  \n",
              "2014UOF-0032-1311-290            Male  \n",
              "2014UOF-0033-1258-365            Male  \n",
              "2014UOF-0034-1234-365            Male  \n",
              "2014UOF-0035-125-384             Male  \n",
              "2014UOF-0036-766-312             Male  \n",
              "2014UOF-0037-1183-317            Male  \n",
              "2014UOF-0038-1274-291            Male  \n",
              "2014UOF-0039-1178-290            Male  \n",
              "2014UOF-0040-1430-301            Male  \n",
              "2014UOF-0041-878-301             Male  \n",
              "2014UOF-0042-125-387             Male  \n",
              "2014UOF-0043-585-454             Male  \n",
              "2014UOF-0044-960-433             Male  \n",
              "2014UOF-0045-521-433             Male  \n",
              "2014UOF-0046-68-433              Male  \n",
              "2014UOF-0047-1327-433            Male  \n",
              "2014UOF-0049-927-362             Male  \n",
              "2014UOF-0050-1296-362            Male  \n",
              "2014UOF-0051-1229-362            Male  \n",
              "2014UOF-0052-1607-362            Male  "
            ],
            "text/html": [
              "\n",
              "  <div id=\"df-1d69306d-a241-4ce4-9957-887fcf500c61\">\n",
              "    <div class=\"colab-df-container\">\n",
              "      <div>\n",
              "<style scoped>\n",
              "    .dataframe tbody tr th:only-of-type {\n",
              "        vertical-align: middle;\n",
              "    }\n",
              "\n",
              "    .dataframe tbody tr th {\n",
              "        vertical-align: top;\n",
              "    }\n",
              "\n",
              "    .dataframe thead th {\n",
              "        text-align: right;\n",
              "    }\n",
              "</style>\n",
              "<table border=\"1\" class=\"dataframe\">\n",
              "  <thead>\n",
              "    <tr style=\"text-align: right;\">\n",
              "      <th></th>\n",
              "      <th>Incident_Num</th>\n",
              "      <th>Incident_Type</th>\n",
              "      <th>Occured_date_time</th>\n",
              "      <th>Precinct</th>\n",
              "      <th>Sector</th>\n",
              "      <th>Beat</th>\n",
              "      <th>Officer_ID</th>\n",
              "      <th>Subject_ID</th>\n",
              "      <th>Subject_Race</th>\n",
              "      <th>Subject_Gender</th>\n",
              "    </tr>\n",
              "    <tr>\n",
              "      <th>ID</th>\n",
              "      <th></th>\n",
              "      <th></th>\n",
              "      <th></th>\n",
              "      <th></th>\n",
              "      <th></th>\n",
              "      <th></th>\n",
              "      <th></th>\n",
              "      <th></th>\n",
              "      <th></th>\n",
              "      <th></th>\n",
              "    </tr>\n",
              "  </thead>\n",
              "  <tbody>\n",
              "    <tr>\n",
              "      <th>2014UOF-0001-1377-203</th>\n",
              "      <td>251</td>\n",
              "      <td>Level 1 - Use of Force</td>\n",
              "      <td>06/07/2014 12:09:00 AM</td>\n",
              "      <td>East</td>\n",
              "      <td>CHARLIE</td>\n",
              "      <td>C2</td>\n",
              "      <td>1594</td>\n",
              "      <td>203</td>\n",
              "      <td>Black or African American</td>\n",
              "      <td>Male</td>\n",
              "    </tr>\n",
              "    <tr>\n",
              "      <th>2014UOF-0002-1098-166</th>\n",
              "      <td>218</td>\n",
              "      <td>Level 1 - Use of Force</td>\n",
              "      <td>05/30/2014 02:06:00 PM</td>\n",
              "      <td>East</td>\n",
              "      <td>GEORGE</td>\n",
              "      <td>G1</td>\n",
              "      <td>1673</td>\n",
              "      <td>166</td>\n",
              "      <td>White</td>\n",
              "      <td>Male</td>\n",
              "    </tr>\n",
              "    <tr>\n",
              "      <th>2014UOF-0003-1031-125</th>\n",
              "      <td>178</td>\n",
              "      <td>Level 1 - Use of Force</td>\n",
              "      <td>05/23/2014 05:24:00 PM</td>\n",
              "      <td>West</td>\n",
              "      <td>KING</td>\n",
              "      <td>K3</td>\n",
              "      <td>1690</td>\n",
              "      <td>125</td>\n",
              "      <td>Asian</td>\n",
              "      <td>Female</td>\n",
              "    </tr>\n",
              "    <tr>\n",
              "      <th>2014UOF-0004-767-126</th>\n",
              "      <td>179</td>\n",
              "      <td>Level 1 - Use of Force</td>\n",
              "      <td>05/26/2014 12:10:00 AM</td>\n",
              "      <td>East</td>\n",
              "      <td>EDWARD</td>\n",
              "      <td>E2</td>\n",
              "      <td>953</td>\n",
              "      <td>126</td>\n",
              "      <td>Black or African American</td>\n",
              "      <td>Male</td>\n",
              "    </tr>\n",
              "    <tr>\n",
              "      <th>2014UOF-0005-1473-172</th>\n",
              "      <td>223</td>\n",
              "      <td>Level 1 - Use of Force</td>\n",
              "      <td>06/01/2014 04:03:00 PM</td>\n",
              "      <td>South</td>\n",
              "      <td>ROBERT</td>\n",
              "      <td>R1</td>\n",
              "      <td>1145</td>\n",
              "      <td>172</td>\n",
              "      <td>Black or African American</td>\n",
              "      <td>Male</td>\n",
              "    </tr>\n",
              "    <tr>\n",
              "      <th>2014UOF-0006-1216-178</th>\n",
              "      <td>229</td>\n",
              "      <td>Level 1 - Use of Force</td>\n",
              "      <td>06/02/2014 05:08:00 AM</td>\n",
              "      <td>West</td>\n",
              "      <td>KING</td>\n",
              "      <td>K1</td>\n",
              "      <td>1783</td>\n",
              "      <td>178</td>\n",
              "      <td>Not Specified</td>\n",
              "      <td>Male</td>\n",
              "    </tr>\n",
              "    <tr>\n",
              "      <th>2014UOF-0007-810-191</th>\n",
              "      <td>240</td>\n",
              "      <td>Level 1 - Use of Force</td>\n",
              "      <td>06/04/2014 10:10:00 PM</td>\n",
              "      <td>East</td>\n",
              "      <td>GEORGE</td>\n",
              "      <td>G3</td>\n",
              "      <td>694</td>\n",
              "      <td>191</td>\n",
              "      <td>Not Specified</td>\n",
              "      <td>Female</td>\n",
              "    </tr>\n",
              "    <tr>\n",
              "      <th>2014UOF-0008-1178-205</th>\n",
              "      <td>254</td>\n",
              "      <td>Level 1 - Use of Force</td>\n",
              "      <td>06/07/2014 03:05:00 AM</td>\n",
              "      <td>West</td>\n",
              "      <td>KING</td>\n",
              "      <td>K3</td>\n",
              "      <td>1662</td>\n",
              "      <td>205</td>\n",
              "      <td>Black or African American</td>\n",
              "      <td>Male</td>\n",
              "    </tr>\n",
              "    <tr>\n",
              "      <th>2014UOF-0009-1464-191</th>\n",
              "      <td>239</td>\n",
              "      <td>Level 1 - Use of Force</td>\n",
              "      <td>06/04/2014 10:07:00 PM</td>\n",
              "      <td>East</td>\n",
              "      <td>GEORGE</td>\n",
              "      <td>G3</td>\n",
              "      <td>1141</td>\n",
              "      <td>191</td>\n",
              "      <td>Not Specified</td>\n",
              "      <td>Female</td>\n",
              "    </tr>\n",
              "    <tr>\n",
              "      <th>2014UOF-0010-1311-204</th>\n",
              "      <td>253</td>\n",
              "      <td>Level 1 - Use of Force</td>\n",
              "      <td>06/07/2014 03:05:00 AM</td>\n",
              "      <td>West</td>\n",
              "      <td>KING</td>\n",
              "      <td>K3</td>\n",
              "      <td>1622</td>\n",
              "      <td>204</td>\n",
              "      <td>Black or African American</td>\n",
              "      <td>Male</td>\n",
              "    </tr>\n",
              "    <tr>\n",
              "      <th>2014UOF-0011-1233-223</th>\n",
              "      <td>284</td>\n",
              "      <td>Level 2 - Use of Force</td>\n",
              "      <td>06/11/2014 02:15:00 AM</td>\n",
              "      <td>West</td>\n",
              "      <td>KING</td>\n",
              "      <td>K3</td>\n",
              "      <td>1640</td>\n",
              "      <td>223</td>\n",
              "      <td>Not Specified</td>\n",
              "      <td>Male</td>\n",
              "    </tr>\n",
              "    <tr>\n",
              "      <th>2014UOF-0012-1464-223</th>\n",
              "      <td>271</td>\n",
              "      <td>Level 2 - Use of Force</td>\n",
              "      <td>06/11/2014 02:15:00 AM</td>\n",
              "      <td>West</td>\n",
              "      <td>KING</td>\n",
              "      <td>K3</td>\n",
              "      <td>1141</td>\n",
              "      <td>223</td>\n",
              "      <td>Not Specified</td>\n",
              "      <td>Male</td>\n",
              "    </tr>\n",
              "    <tr>\n",
              "      <th>2014UOF-0013-147-245</th>\n",
              "      <td>292</td>\n",
              "      <td>Level 1 - Use of Force</td>\n",
              "      <td>06/17/2014 06:21:00 PM</td>\n",
              "      <td>East</td>\n",
              "      <td>GEORGE</td>\n",
              "      <td>G3</td>\n",
              "      <td>1542</td>\n",
              "      <td>245</td>\n",
              "      <td>Black or African American</td>\n",
              "      <td>Male</td>\n",
              "    </tr>\n",
              "    <tr>\n",
              "      <th>2014UOF-0014-1202-245</th>\n",
              "      <td>293</td>\n",
              "      <td>Level 1 - Use of Force</td>\n",
              "      <td>06/17/2014 06:30:00 PM</td>\n",
              "      <td>East</td>\n",
              "      <td>GEORGE</td>\n",
              "      <td>G3</td>\n",
              "      <td>1635</td>\n",
              "      <td>245</td>\n",
              "      <td>Black or African American</td>\n",
              "      <td>Male</td>\n",
              "    </tr>\n",
              "    <tr>\n",
              "      <th>2014UOF-0015-1031-169</th>\n",
              "      <td>219</td>\n",
              "      <td>Level 1 - Use of Force</td>\n",
              "      <td>05/30/2014 11:23:00 PM</td>\n",
              "      <td>East</td>\n",
              "      <td>CHARLIE</td>\n",
              "      <td>C1</td>\n",
              "      <td>1690</td>\n",
              "      <td>169</td>\n",
              "      <td>White</td>\n",
              "      <td>Male</td>\n",
              "    </tr>\n",
              "    <tr>\n",
              "      <th>2014UOF-0016-1274-170</th>\n",
              "      <td>220</td>\n",
              "      <td>Level 1 - Use of Force</td>\n",
              "      <td>05/30/2014 11:16:00 PM</td>\n",
              "      <td>East</td>\n",
              "      <td>CHARLIE</td>\n",
              "      <td>C1</td>\n",
              "      <td>1604</td>\n",
              "      <td>170</td>\n",
              "      <td>American Indian/Alaska Native</td>\n",
              "      <td>Male</td>\n",
              "    </tr>\n",
              "    <tr>\n",
              "      <th>2014UOF-0017-1233-171</th>\n",
              "      <td>222</td>\n",
              "      <td>Level 1 - Use of Force</td>\n",
              "      <td>05/30/2014 11:19:00 PM</td>\n",
              "      <td>East</td>\n",
              "      <td>CHARLIE</td>\n",
              "      <td>C1</td>\n",
              "      <td>1640</td>\n",
              "      <td>171</td>\n",
              "      <td>American Indian/Alaska Native</td>\n",
              "      <td>Male</td>\n",
              "    </tr>\n",
              "    <tr>\n",
              "      <th>2014UOF-0018-77-245</th>\n",
              "      <td>291</td>\n",
              "      <td>Level 1 - Use of Force</td>\n",
              "      <td>06/17/2014 06:16:00 PM</td>\n",
              "      <td>East</td>\n",
              "      <td>GEORGE</td>\n",
              "      <td>G3</td>\n",
              "      <td>1561</td>\n",
              "      <td>245</td>\n",
              "      <td>Black or African American</td>\n",
              "      <td>Male</td>\n",
              "    </tr>\n",
              "    <tr>\n",
              "      <th>2014UOF-0019-1274-240</th>\n",
              "      <td>285</td>\n",
              "      <td>Level 1 - Use of Force</td>\n",
              "      <td>06/16/2014 09:22:00 PM</td>\n",
              "      <td>East</td>\n",
              "      <td>GEORGE</td>\n",
              "      <td>G1</td>\n",
              "      <td>1604</td>\n",
              "      <td>240</td>\n",
              "      <td>Black or African American</td>\n",
              "      <td>Male</td>\n",
              "    </tr>\n",
              "    <tr>\n",
              "      <th>2014UOF-0020-996-257</th>\n",
              "      <td>305</td>\n",
              "      <td>Level 3 - Use of Force</td>\n",
              "      <td>06/22/2014 12:29:00 AM</td>\n",
              "      <td>West</td>\n",
              "      <td>KING</td>\n",
              "      <td>K3</td>\n",
              "      <td>408</td>\n",
              "      <td>257</td>\n",
              "      <td>Black or African American</td>\n",
              "      <td>Male</td>\n",
              "    </tr>\n",
              "    <tr>\n",
              "      <th>2014UOF-0021-1339-257</th>\n",
              "      <td>306</td>\n",
              "      <td>Level 1 - Use of Force</td>\n",
              "      <td>06/22/2014 12:29:00 AM</td>\n",
              "      <td>West</td>\n",
              "      <td>KING</td>\n",
              "      <td>K3</td>\n",
              "      <td>1577</td>\n",
              "      <td>257</td>\n",
              "      <td>Black or African American</td>\n",
              "      <td>Male</td>\n",
              "    </tr>\n",
              "    <tr>\n",
              "      <th>2014UOF-0022-1334-1792</th>\n",
              "      <td>385</td>\n",
              "      <td>Level 3 - OIS</td>\n",
              "      <td>07/01/2014 10:43:00 PM</td>\n",
              "      <td>South</td>\n",
              "      <td>SAM</td>\n",
              "      <td>S1</td>\n",
              "      <td>1575</td>\n",
              "      <td>1786</td>\n",
              "      <td>White</td>\n",
              "      <td>Male</td>\n",
              "    </tr>\n",
              "    <tr>\n",
              "      <th>2014UOF-0024-1589-313</th>\n",
              "      <td>404</td>\n",
              "      <td>Level 1 - Use of Force</td>\n",
              "      <td>06/28/2014 10:57:00 PM</td>\n",
              "      <td>North</td>\n",
              "      <td>LINCOLN</td>\n",
              "      <td>L1</td>\n",
              "      <td>338</td>\n",
              "      <td>312</td>\n",
              "      <td>Black or African American</td>\n",
              "      <td>Male</td>\n",
              "    </tr>\n",
              "    <tr>\n",
              "      <th>2014UOF-0025-1296-313</th>\n",
              "      <td>364</td>\n",
              "      <td>Level 1 - Use of Force</td>\n",
              "      <td>06/28/2014 10:55:00 PM</td>\n",
              "      <td>North</td>\n",
              "      <td>LINCOLN</td>\n",
              "      <td>L1</td>\n",
              "      <td>1763</td>\n",
              "      <td>312</td>\n",
              "      <td>Black or African American</td>\n",
              "      <td>Male</td>\n",
              "    </tr>\n",
              "    <tr>\n",
              "      <th>2014UOF-0026-255-313</th>\n",
              "      <td>361</td>\n",
              "      <td>Level 1 - Use of Force</td>\n",
              "      <td>06/28/2014 11:10:00 PM</td>\n",
              "      <td>North</td>\n",
              "      <td>LINCOLN</td>\n",
              "      <td>L1</td>\n",
              "      <td>827</td>\n",
              "      <td>312</td>\n",
              "      <td>Black or African American</td>\n",
              "      <td>Male</td>\n",
              "    </tr>\n",
              "    <tr>\n",
              "      <th>2014UOF-0027-1282-303</th>\n",
              "      <td>357</td>\n",
              "      <td>Level 1 - Use of Force</td>\n",
              "      <td>06/27/2014 10:30:00 PM</td>\n",
              "      <td>North</td>\n",
              "      <td>UNION</td>\n",
              "      <td>U2</td>\n",
              "      <td>1611</td>\n",
              "      <td>302</td>\n",
              "      <td>White</td>\n",
              "      <td>Female</td>\n",
              "    </tr>\n",
              "    <tr>\n",
              "      <th>2014UOF-0028-1391-298</th>\n",
              "      <td>352</td>\n",
              "      <td>Level 1 - Use of Force</td>\n",
              "      <td>06/27/2014 12:30:00 AM</td>\n",
              "      <td>North</td>\n",
              "      <td>LINCOLN</td>\n",
              "      <td>L2</td>\n",
              "      <td>1719</td>\n",
              "      <td>297</td>\n",
              "      <td>White</td>\n",
              "      <td>Male</td>\n",
              "    </tr>\n",
              "    <tr>\n",
              "      <th>2014UOF-0029-1233-240</th>\n",
              "      <td>286</td>\n",
              "      <td>Level 1 - Use of Force</td>\n",
              "      <td>06/16/2014 09:22:00 PM</td>\n",
              "      <td>East</td>\n",
              "      <td>GEORGE</td>\n",
              "      <td>G1</td>\n",
              "      <td>1640</td>\n",
              "      <td>240</td>\n",
              "      <td>Black or African American</td>\n",
              "      <td>Male</td>\n",
              "    </tr>\n",
              "    <tr>\n",
              "      <th>2014UOF-0030-1207-265</th>\n",
              "      <td>337</td>\n",
              "      <td>Level 1 - Use of Force</td>\n",
              "      <td>06/22/2014 12:33:00 AM</td>\n",
              "      <td>East</td>\n",
              "      <td>GEORGE</td>\n",
              "      <td>G3</td>\n",
              "      <td>1637</td>\n",
              "      <td>265</td>\n",
              "      <td>White</td>\n",
              "      <td>Male</td>\n",
              "    </tr>\n",
              "    <tr>\n",
              "      <th>2014UOF-0031-1233-290</th>\n",
              "      <td>340</td>\n",
              "      <td>Level 3 - Use of Force</td>\n",
              "      <td>06/25/2014 11:40:00 PM</td>\n",
              "      <td>West</td>\n",
              "      <td>DAVID</td>\n",
              "      <td>D3</td>\n",
              "      <td>1640</td>\n",
              "      <td>289</td>\n",
              "      <td>Black or African American</td>\n",
              "      <td>Male</td>\n",
              "    </tr>\n",
              "    <tr>\n",
              "      <th>2014UOF-0032-1311-290</th>\n",
              "      <td>339</td>\n",
              "      <td>Level 3 - Use of Force</td>\n",
              "      <td>06/25/2014 11:30:00 PM</td>\n",
              "      <td>West</td>\n",
              "      <td>DAVID</td>\n",
              "      <td>D3</td>\n",
              "      <td>1622</td>\n",
              "      <td>289</td>\n",
              "      <td>Black or African American</td>\n",
              "      <td>Male</td>\n",
              "    </tr>\n",
              "    <tr>\n",
              "      <th>2014UOF-0033-1258-365</th>\n",
              "      <td>409</td>\n",
              "      <td>Level 1 - Use of Force</td>\n",
              "      <td>07/04/2014 10:20:00 PM</td>\n",
              "      <td>Southwest</td>\n",
              "      <td>FRANK</td>\n",
              "      <td>F2</td>\n",
              "      <td>1749</td>\n",
              "      <td>364</td>\n",
              "      <td>Black or African American</td>\n",
              "      <td>Male</td>\n",
              "    </tr>\n",
              "    <tr>\n",
              "      <th>2014UOF-0034-1234-365</th>\n",
              "      <td>410</td>\n",
              "      <td>Level 1 - Use of Force</td>\n",
              "      <td>07/04/2014 10:20:00 PM</td>\n",
              "      <td>Southwest</td>\n",
              "      <td>FRANK</td>\n",
              "      <td>F2</td>\n",
              "      <td>1641</td>\n",
              "      <td>364</td>\n",
              "      <td>Black or African American</td>\n",
              "      <td>Male</td>\n",
              "    </tr>\n",
              "    <tr>\n",
              "      <th>2014UOF-0035-125-384</th>\n",
              "      <td>435</td>\n",
              "      <td>Level 2 - Use of Force</td>\n",
              "      <td>07/08/2014 09:17:00 PM</td>\n",
              "      <td>East</td>\n",
              "      <td>EDWARD</td>\n",
              "      <td>E1</td>\n",
              "      <td>1539</td>\n",
              "      <td>383</td>\n",
              "      <td>White</td>\n",
              "      <td>Male</td>\n",
              "    </tr>\n",
              "    <tr>\n",
              "      <th>2014UOF-0036-766-312</th>\n",
              "      <td>362</td>\n",
              "      <td>Level 1 - Use of Force</td>\n",
              "      <td>06/29/2014 01:01:00 PM</td>\n",
              "      <td>West</td>\n",
              "      <td>DAVID</td>\n",
              "      <td>D1</td>\n",
              "      <td>948</td>\n",
              "      <td>311</td>\n",
              "      <td>White</td>\n",
              "      <td>Male</td>\n",
              "    </tr>\n",
              "    <tr>\n",
              "      <th>2014UOF-0037-1183-317</th>\n",
              "      <td>369</td>\n",
              "      <td>Level 1 - Use of Force</td>\n",
              "      <td>06/29/2014 01:01:00 PM</td>\n",
              "      <td>West</td>\n",
              "      <td>DAVID</td>\n",
              "      <td>D1</td>\n",
              "      <td>1666</td>\n",
              "      <td>316</td>\n",
              "      <td>White</td>\n",
              "      <td>Male</td>\n",
              "    </tr>\n",
              "    <tr>\n",
              "      <th>2014UOF-0038-1274-291</th>\n",
              "      <td>341</td>\n",
              "      <td>Level 2 - Use of Force</td>\n",
              "      <td>06/25/2014 11:30:00 PM</td>\n",
              "      <td>West</td>\n",
              "      <td>DAVID</td>\n",
              "      <td>D3</td>\n",
              "      <td>1604</td>\n",
              "      <td>290</td>\n",
              "      <td>Black or African American</td>\n",
              "      <td>Male</td>\n",
              "    </tr>\n",
              "    <tr>\n",
              "      <th>2014UOF-0039-1178-290</th>\n",
              "      <td>342</td>\n",
              "      <td>Level 3 - Use of Force</td>\n",
              "      <td>06/25/2014 11:30:00 PM</td>\n",
              "      <td>West</td>\n",
              "      <td>DAVID</td>\n",
              "      <td>D3</td>\n",
              "      <td>1662</td>\n",
              "      <td>289</td>\n",
              "      <td>Black or African American</td>\n",
              "      <td>Male</td>\n",
              "    </tr>\n",
              "    <tr>\n",
              "      <th>2014UOF-0040-1430-301</th>\n",
              "      <td>349</td>\n",
              "      <td>Level 2 - Use of Force</td>\n",
              "      <td>06/26/2014 03:03:00 PM</td>\n",
              "      <td>North</td>\n",
              "      <td>JOHN</td>\n",
              "      <td>J3</td>\n",
              "      <td>1132</td>\n",
              "      <td>300</td>\n",
              "      <td>White</td>\n",
              "      <td>Male</td>\n",
              "    </tr>\n",
              "    <tr>\n",
              "      <th>2014UOF-0041-878-301</th>\n",
              "      <td>350</td>\n",
              "      <td>Level 2 - Use of Force</td>\n",
              "      <td>06/26/2014 03:03:00 PM</td>\n",
              "      <td>North</td>\n",
              "      <td>JOHN</td>\n",
              "      <td>J3</td>\n",
              "      <td>967</td>\n",
              "      <td>300</td>\n",
              "      <td>White</td>\n",
              "      <td>Male</td>\n",
              "    </tr>\n",
              "    <tr>\n",
              "      <th>2014UOF-0042-125-387</th>\n",
              "      <td>437</td>\n",
              "      <td>Level 1 - Use of Force</td>\n",
              "      <td>07/09/2014 12:13:00 AM</td>\n",
              "      <td>East</td>\n",
              "      <td>CHARLIE</td>\n",
              "      <td>C3</td>\n",
              "      <td>1539</td>\n",
              "      <td>386</td>\n",
              "      <td>White</td>\n",
              "      <td>Male</td>\n",
              "    </tr>\n",
              "    <tr>\n",
              "      <th>2014UOF-0043-585-454</th>\n",
              "      <td>497</td>\n",
              "      <td>Level 1 - Use of Force</td>\n",
              "      <td>07/15/2014 04:04:00 AM</td>\n",
              "      <td>North</td>\n",
              "      <td>LINCOLN</td>\n",
              "      <td>L1</td>\n",
              "      <td>478</td>\n",
              "      <td>453</td>\n",
              "      <td>White</td>\n",
              "      <td>Male</td>\n",
              "    </tr>\n",
              "    <tr>\n",
              "      <th>2014UOF-0044-960-433</th>\n",
              "      <td>479</td>\n",
              "      <td>Level 3 - Use of Force</td>\n",
              "      <td>07/12/2014 11:42:00 PM</td>\n",
              "      <td>West</td>\n",
              "      <td>DAVID</td>\n",
              "      <td>D1</td>\n",
              "      <td>927</td>\n",
              "      <td>432</td>\n",
              "      <td>White</td>\n",
              "      <td>Male</td>\n",
              "    </tr>\n",
              "    <tr>\n",
              "      <th>2014UOF-0045-521-433</th>\n",
              "      <td>477</td>\n",
              "      <td>Level 2 - Use of Force</td>\n",
              "      <td>07/12/2014 11:40:00 PM</td>\n",
              "      <td>West</td>\n",
              "      <td>DAVID</td>\n",
              "      <td>D1</td>\n",
              "      <td>498</td>\n",
              "      <td>432</td>\n",
              "      <td>White</td>\n",
              "      <td>Male</td>\n",
              "    </tr>\n",
              "    <tr>\n",
              "      <th>2014UOF-0046-68-433</th>\n",
              "      <td>475</td>\n",
              "      <td>Level 2 - Use of Force</td>\n",
              "      <td>07/12/2014 11:42:00 PM</td>\n",
              "      <td>West</td>\n",
              "      <td>DAVID</td>\n",
              "      <td>D1</td>\n",
              "      <td>1725</td>\n",
              "      <td>432</td>\n",
              "      <td>White</td>\n",
              "      <td>Male</td>\n",
              "    </tr>\n",
              "    <tr>\n",
              "      <th>2014UOF-0047-1327-433</th>\n",
              "      <td>474</td>\n",
              "      <td>Level 2 - Use of Force</td>\n",
              "      <td>07/12/2014 11:42:00 PM</td>\n",
              "      <td>West</td>\n",
              "      <td>DAVID</td>\n",
              "      <td>D1</td>\n",
              "      <td>1738</td>\n",
              "      <td>432</td>\n",
              "      <td>White</td>\n",
              "      <td>Male</td>\n",
              "    </tr>\n",
              "    <tr>\n",
              "      <th>2014UOF-0049-927-362</th>\n",
              "      <td>403</td>\n",
              "      <td>Level 2 - Use of Force</td>\n",
              "      <td>07/03/2014 10:15:00 PM</td>\n",
              "      <td>North</td>\n",
              "      <td>NORA</td>\n",
              "      <td>N2</td>\n",
              "      <td>672</td>\n",
              "      <td>361</td>\n",
              "      <td>White</td>\n",
              "      <td>Male</td>\n",
              "    </tr>\n",
              "    <tr>\n",
              "      <th>2014UOF-0050-1296-362</th>\n",
              "      <td>405</td>\n",
              "      <td>Level 2 - Use of Force</td>\n",
              "      <td>07/03/2014 10:15:00 PM</td>\n",
              "      <td>North</td>\n",
              "      <td>NORA</td>\n",
              "      <td>N2</td>\n",
              "      <td>1763</td>\n",
              "      <td>361</td>\n",
              "      <td>White</td>\n",
              "      <td>Male</td>\n",
              "    </tr>\n",
              "    <tr>\n",
              "      <th>2014UOF-0051-1229-362</th>\n",
              "      <td>406</td>\n",
              "      <td>Level 2 - Use of Force</td>\n",
              "      <td>07/03/2014 10:15:00 PM</td>\n",
              "      <td>North</td>\n",
              "      <td>NORA</td>\n",
              "      <td>N2</td>\n",
              "      <td>1791</td>\n",
              "      <td>361</td>\n",
              "      <td>White</td>\n",
              "      <td>Male</td>\n",
              "    </tr>\n",
              "    <tr>\n",
              "      <th>2014UOF-0052-1607-362</th>\n",
              "      <td>407</td>\n",
              "      <td>Level 2 - Use of Force</td>\n",
              "      <td>07/03/2014 10:15:00 PM</td>\n",
              "      <td>North</td>\n",
              "      <td>NORA</td>\n",
              "      <td>N2</td>\n",
              "      <td>590</td>\n",
              "      <td>361</td>\n",
              "      <td>White</td>\n",
              "      <td>Male</td>\n",
              "    </tr>\n",
              "  </tbody>\n",
              "</table>\n",
              "</div>\n",
              "      <button class=\"colab-df-convert\" onclick=\"convertToInteractive('df-1d69306d-a241-4ce4-9957-887fcf500c61')\"\n",
              "              title=\"Convert this dataframe to an interactive table.\"\n",
              "              style=\"display:none;\">\n",
              "        \n",
              "  <svg xmlns=\"http://www.w3.org/2000/svg\" height=\"24px\"viewBox=\"0 0 24 24\"\n",
              "       width=\"24px\">\n",
              "    <path d=\"M0 0h24v24H0V0z\" fill=\"none\"/>\n",
              "    <path d=\"M18.56 5.44l.94 2.06.94-2.06 2.06-.94-2.06-.94-.94-2.06-.94 2.06-2.06.94zm-11 1L8.5 8.5l.94-2.06 2.06-.94-2.06-.94L8.5 2.5l-.94 2.06-2.06.94zm10 10l.94 2.06.94-2.06 2.06-.94-2.06-.94-.94-2.06-.94 2.06-2.06.94z\"/><path d=\"M17.41 7.96l-1.37-1.37c-.4-.4-.92-.59-1.43-.59-.52 0-1.04.2-1.43.59L10.3 9.45l-7.72 7.72c-.78.78-.78 2.05 0 2.83L4 21.41c.39.39.9.59 1.41.59.51 0 1.02-.2 1.41-.59l7.78-7.78 2.81-2.81c.8-.78.8-2.07 0-2.86zM5.41 20L4 18.59l7.72-7.72 1.47 1.35L5.41 20z\"/>\n",
              "  </svg>\n",
              "      </button>\n",
              "      \n",
              "  <style>\n",
              "    .colab-df-container {\n",
              "      display:flex;\n",
              "      flex-wrap:wrap;\n",
              "      gap: 12px;\n",
              "    }\n",
              "\n",
              "    .colab-df-convert {\n",
              "      background-color: #E8F0FE;\n",
              "      border: none;\n",
              "      border-radius: 50%;\n",
              "      cursor: pointer;\n",
              "      display: none;\n",
              "      fill: #1967D2;\n",
              "      height: 32px;\n",
              "      padding: 0 0 0 0;\n",
              "      width: 32px;\n",
              "    }\n",
              "\n",
              "    .colab-df-convert:hover {\n",
              "      background-color: #E2EBFA;\n",
              "      box-shadow: 0px 1px 2px rgba(60, 64, 67, 0.3), 0px 1px 3px 1px rgba(60, 64, 67, 0.15);\n",
              "      fill: #174EA6;\n",
              "    }\n",
              "\n",
              "    [theme=dark] .colab-df-convert {\n",
              "      background-color: #3B4455;\n",
              "      fill: #D2E3FC;\n",
              "    }\n",
              "\n",
              "    [theme=dark] .colab-df-convert:hover {\n",
              "      background-color: #434B5C;\n",
              "      box-shadow: 0px 1px 3px 1px rgba(0, 0, 0, 0.15);\n",
              "      filter: drop-shadow(0px 1px 2px rgba(0, 0, 0, 0.3));\n",
              "      fill: #FFFFFF;\n",
              "    }\n",
              "  </style>\n",
              "\n",
              "      <script>\n",
              "        const buttonEl =\n",
              "          document.querySelector('#df-1d69306d-a241-4ce4-9957-887fcf500c61 button.colab-df-convert');\n",
              "        buttonEl.style.display =\n",
              "          google.colab.kernel.accessAllowed ? 'block' : 'none';\n",
              "\n",
              "        async function convertToInteractive(key) {\n",
              "          const element = document.querySelector('#df-1d69306d-a241-4ce4-9957-887fcf500c61');\n",
              "          const dataTable =\n",
              "            await google.colab.kernel.invokeFunction('convertToInteractive',\n",
              "                                                     [key], {});\n",
              "          if (!dataTable) return;\n",
              "\n",
              "          const docLinkHtml = 'Like what you see? Visit the ' +\n",
              "            '<a target=\"_blank\" href=https://colab.research.google.com/notebooks/data_table.ipynb>data table notebook</a>'\n",
              "            + ' to learn more about interactive tables.';\n",
              "          element.innerHTML = '';\n",
              "          dataTable['output_type'] = 'display_data';\n",
              "          await google.colab.output.renderOutput(dataTable, element);\n",
              "          const docLink = document.createElement('div');\n",
              "          docLink.innerHTML = docLinkHtml;\n",
              "          element.appendChild(docLink);\n",
              "        }\n",
              "      </script>\n",
              "    </div>\n",
              "  </div>\n",
              "  "
            ]
          },
          "metadata": {},
          "execution_count": 139
        }
      ]
    },
    {
      "cell_type": "markdown",
      "source": [
        "## Analises prelimináres"
      ],
      "metadata": {
        "id": "dUSX_GxopkZf"
      }
    },
    {
      "cell_type": "code",
      "source": [
        "sns.set_context(\"notebook\", font_scale=0.6)\n",
        "sns.countplot(x='Incident_Type', data = df)"
      ],
      "metadata": {
        "colab": {
          "base_uri": "https://localhost:8080/",
          "height": 292
        },
        "id": "aL02RX0Su7UJ",
        "outputId": "be1ef060-3b93-4bb1-ccd7-2dd7516e8e06"
      },
      "execution_count": 140,
      "outputs": [
        {
          "output_type": "execute_result",
          "data": {
            "text/plain": [
              "<matplotlib.axes._subplots.AxesSubplot at 0x7f22a2ad7d50>"
            ]
          },
          "metadata": {},
          "execution_count": 140
        },
        {
          "output_type": "display_data",
          "data": {
            "text/plain": [
              "<Figure size 432x288 with 1 Axes>"
            ],
            "image/png": "[encoded data removed]"
          },
          "metadata": {
            "needs_background": "light"
          }
        }
      ]
    },
    {
      "cell_type": "markdown",
      "source": [
        "###Busca por dados inconsistentes"
      ],
      "metadata": {
        "id": "x1UNRBjBs7nV"
      }
    },
    {
      "cell_type": "code",
      "source": [
        "### Busca por NaNs\n",
        "for column in df:\n",
        "    print(column, 'nan:', df[column].isnull().sum())"
      ],
      "metadata": {
        "colab": {
          "base_uri": "https://localhost:8080/"
        },
        "id": "U-1YrObTtEHo",
        "outputId": "b4992039-77d6-4dd3-a105-2ed8fb95545f"
      },
      "execution_count": 141,
      "outputs": [
        {
          "output_type": "stream",
          "name": "stdout",
          "text": [
            "Incident_Num nan: 0\n",
            "Incident_Type nan: 0\n",
            "Occured_date_time nan: 0\n",
            "Precinct nan: 0\n",
            "Sector nan: 951\n",
            "Beat nan: 0\n",
            "Officer_ID nan: 0\n",
            "Subject_ID nan: 0\n",
            "Subject_Race nan: 0\n",
            "Subject_Gender nan: 0\n"
          ]
        }
      ]
    },
    {
      "cell_type": "code",
      "source": [
        "### Busca por dados fora do padrão\n",
        "for column in df:\n",
        "    print(column, df[column].unique(),'\\n')"
      ],
      "metadata": {
        "colab": {
          "base_uri": "https://localhost:8080/"
        },
        "id": "fq_2MjGMorlH",
        "outputId": "e588e357-9097-4f73-bf10-b877d51a8080"
      },
      "execution_count": 142,
      "outputs": [
        {
          "output_type": "stream",
          "name": "stdout",
          "text": [
            "Incident_Num [  251   218   178 ... 68032 68029 67659] \n",
            "\n",
            "Incident_Type ['Level 1 - Use of Force' 'Level 2 - Use of Force'\n",
            " 'Level 3 - Use of Force' 'Level 3 - OIS'] \n",
            "\n",
            "Occured_date_time ['06/07/2014 12:09:00 AM' '05/30/2014 02:06:00 PM'\n",
            " '05/23/2014 05:24:00 PM' ... '05/24/2022 08:51:00 PM'\n",
            " '05/24/2022 08:52:00 PM' '04/19/2022 09:02:00 PM'] \n",
            "\n",
            "Precinct ['East' 'West' 'South' 'North' 'Southwest' 'X' '-' '0' 'OOJ'] \n",
            "\n",
            "Sector ['CHARLIE' 'GEORGE' 'KING' 'EDWARD' 'ROBERT' 'SAM' 'LINCOLN' 'UNION'\n",
            " 'DAVID' 'FRANK' 'JOHN' 'NORA' nan 'BOY' 'OCEAN' 'QUEEN' 'WILLIAM' 'MARY'] \n",
            "\n",
            "Beat ['C2' 'G1' 'K3' 'E2' 'R1' 'K1' 'G3' 'C1' 'S1' 'L1' 'U2' 'L2' 'D3' 'F2'\n",
            " 'E1' 'D1' 'J3' 'C3' 'N2' 'XX' 'R3' 'F1' 'N3' 'J1' 'U3' 'L3' 'B1' 'O3'\n",
            " 'S2' 'S3' 'R2' 'Q2' 'K2' 'D2' 'W3' 'N1' 'B3' 'F3' 'M3' 'M2' 'G2' 'U1'\n",
            " 'B2' 'Q1' 'M1' 'E3' 'Q3' 'O1' 'J2' 'W2' 'W1' 'O2' '99' '-' '0'] \n",
            "\n",
            "Officer_ID [1594 1673 1690 ...  893 5980 5961] \n",
            "\n",
            "Subject_ID [  203   166   125 ... 29212 29092 29302] \n",
            "\n",
            "Subject_Race ['Black or African American' 'White' 'Asian' 'Not Specified'\n",
            " 'American Indian/Alaska Native' 'Hispanic or Latino'\n",
            " 'Nat Hawaiian/Oth Pac Islander' 'Two or More Races'] \n",
            "\n",
            "Subject_Gender ['Male' 'Female' 'Unknown' '-' 'Other' 'Transgender Male'\n",
            " 'Transgender Female' 'Non-binary' 'm'] \n",
            "\n"
          ]
        }
      ]
    },
    {
      "cell_type": "code",
      "source": [
        "### Analizando dados fora do padrão\n",
        "def Dados_Estranhos(column:str, dados:list)->None:\n",
        "    total = 0\n",
        "    for dado in dados:\n",
        "        quantidade = len(df[df[column] == dado])\n",
        "        total += quantidade\n",
        "        print(column, dado, quantidade)\n",
        "    print('Total:',total,'\\n')\n",
        "\n",
        "Dados_Estranhos('Precinct', ['X', '-', '0', 'OOJ'])\n",
        "Dados_Estranhos('Beat', ['XX','99', '-', '0'])\n",
        "Dados_Estranhos('Subject_Gender', ['Unknown', '-', 'Other', 'm'])"
      ],
      "metadata": {
        "colab": {
          "base_uri": "https://localhost:8080/"
        },
        "id": "Na9U_CRDp0-E",
        "outputId": "481987f3-dfe0-473c-daab-2c4fdaa19eca"
      },
      "execution_count": 143,
      "outputs": [
        {
          "output_type": "stream",
          "name": "stdout",
          "text": [
            "Precinct X 371\n",
            "Precinct - 561\n",
            "Precinct 0 12\n",
            "Precinct OOJ 7\n",
            "Total: 951 \n",
            "\n",
            "Beat XX 345\n",
            "Beat 99 36\n",
            "Beat - 557\n",
            "Beat 0 13\n",
            "Total: 951 \n",
            "\n",
            "Subject_Gender Unknown 464\n",
            "Subject_Gender - 66\n",
            "Subject_Gender Other 25\n",
            "Subject_Gender m 2\n",
            "Total: 557 \n",
            "\n"
          ]
        }
      ]
    },
    {
      "cell_type": "code",
      "source": [
        "### Verificando se todas os dados numéricos seguem o mesmo padrão.\n",
        "columns = ['Incident_Num', 'Officer_ID', 'Subject_ID']\n",
        "\n",
        "for column in columns:\n",
        "    for data in df[column].unique():\n",
        "        if not str(data).isnumeric():\n",
        "            print(column, data)"
      ],
      "metadata": {
        "id": "YOH1rieSr0Xi"
      },
      "execution_count": 144,
      "outputs": []
    },
    {
      "cell_type": "code",
      "source": [
        "### Verificando se todas as datas seguem o mesmo padrão.\n",
        "column = 'Occured_date_time'\n",
        "\n",
        "for data in df[column].unique():\n",
        "    data_norm = str(data).replace('/',' ').replace(':',' ').split(' ')\n",
        "    if '-'.join([str(len(i)) for i in data_norm]) != '2-2-4-2-2-2-2' or not ''.join(data_norm[:-1]).isnumeric():\n",
        "        print(data)"
      ],
      "metadata": {
        "id": "0gDcRlDsKXI5"
      },
      "execution_count": 145,
      "outputs": []
    },
    {
      "cell_type": "markdown",
      "source": [
        "## Limpeza dados"
      ],
      "metadata": {
        "id": "DUOqJ_lxNQC2"
      }
    },
    {
      "cell_type": "markdown",
      "source": [
        "### Tratamento de dados inconsistentes"
      ],
      "metadata": {
        "id": "7UdDK-xT2H15"
      }
    },
    {
      "cell_type": "code",
      "source": [
        "df[df.Sector.isnull()]['Beat'].unique(), df[df.Sector.isnull()]['Precinct'].unique()"
      ],
      "metadata": {
        "colab": {
          "base_uri": "https://localhost:8080/"
        },
        "id": "RVNaI-8mNPHL",
        "outputId": "71399c48-6619-46a5-9b44-32795ddfaa7b"
      },
      "execution_count": 146,
      "outputs": [
        {
          "output_type": "execute_result",
          "data": {
            "text/plain": [
              "(array(['XX', '99', '-', '0'], dtype=object),\n",
              " array(['X', '-', '0', 'OOJ'], dtype=object))"
            ]
          },
          "metadata": {},
          "execution_count": 146
        }
      ]
    },
    {
      "cell_type": "markdown",
      "source": [
        "Considerando que as três colunas referentes a localidade ['Precint', 'Sector', 'Beat'] possuem as mesmas 951 linhas irregulares.\n",
        "![Captura de Tela (67).png](data:image/png;base64,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)![Captura de Tela (66).png](data:image/png;base64,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)\n",
        "\n",
        "Normalizarei todas elas no valor 0 e as dispensarei nos casos que a análise levar em conta localidade.\n"
      ],
      "metadata": {
        "id": "VwhLutG1Sugv"
      }
    },
    {
      "cell_type": "code",
      "source": [
        "df.loc[df.Sector.isnull(), ['Sector', 'Beat', 'Precinct']] = 0\n",
        "df[df.Sector == 0].head()"
      ],
      "metadata": {
        "colab": {
          "base_uri": "https://localhost:8080/",
          "height": 368
        },
        "id": "QwkD9A5HT_n4",
        "outputId": "f10bf0a2-231b-41f6-b19c-d1eb4b0260b7"
      },
      "execution_count": 147,
      "outputs": [
        {
          "output_type": "execute_result",
          "data": {
            "text/plain": [
              "                       Incident_Num           Incident_Type  \\\n",
              "ID                                                            \n",
              "2014UOF-0053-627-522            553  Level 1 - Use of Force   \n",
              "2014UOF-0076-375-389            439  Level 1 - Use of Force   \n",
              "2014UOF-0080-1010-336           376  Level 1 - Use of Force   \n",
              "2014UOF-0083-1119-435           480  Level 1 - Use of Force   \n",
              "2014UOF-0154-1528-596           620  Level 1 - Use of Force   \n",
              "\n",
              "                            Occured_date_time Precinct Sector Beat  \\\n",
              "ID                                                                   \n",
              "2014UOF-0053-627-522   07/19/2014 04:44:00 PM        0      0    0   \n",
              "2014UOF-0076-375-389   07/09/2014 06:02:00 AM        0      0    0   \n",
              "2014UOF-0080-1010-336  07/01/2014 06:00:00 AM        0      0    0   \n",
              "2014UOF-0083-1119-435  07/12/2014 11:20:00 AM        0      0    0   \n",
              "2014UOF-0154-1528-596  07/23/2014 10:12:00 PM        0      0    0   \n",
              "\n",
              "                       Officer_ID  Subject_ID               Subject_Race  \\\n",
              "ID                                                                         \n",
              "2014UOF-0053-627-522          913         520  Black or African American   \n",
              "2014UOF-0076-375-389          302         388                      White   \n",
              "2014UOF-0080-1010-336        1220         335                      White   \n",
              "2014UOF-0083-1119-435        1800         434              Not Specified   \n",
              "2014UOF-0154-1528-596        1180         594  Black or African American   \n",
              "\n",
              "                      Subject_Gender  \n",
              "ID                                    \n",
              "2014UOF-0053-627-522            Male  \n",
              "2014UOF-0076-375-389          Female  \n",
              "2014UOF-0080-1010-336           Male  \n",
              "2014UOF-0083-1119-435           Male  \n",
              "2014UOF-0154-1528-596         Female  "
            ],
            "text/html": [
              "\n",
              "  <div id=\"df-f3a2d332-ac78-43e9-8245-71fb670e35e0\">\n",
              "    <div class=\"colab-df-container\">\n",
              "      <div>\n",
              "<style scoped>\n",
              "    .dataframe tbody tr th:only-of-type {\n",
              "        vertical-align: middle;\n",
              "    }\n",
              "\n",
              "    .dataframe tbody tr th {\n",
              "        vertical-align: top;\n",
              "    }\n",
              "\n",
              "    .dataframe thead th {\n",
              "        text-align: right;\n",
              "    }\n",
              "</style>\n",
              "<table border=\"1\" class=\"dataframe\">\n",
              "  <thead>\n",
              "    <tr style=\"text-align: right;\">\n",
              "      <th></th>\n",
              "      <th>Incident_Num</th>\n",
              "      <th>Incident_Type</th>\n",
              "      <th>Occured_date_time</th>\n",
              "      <th>Precinct</th>\n",
              "      <th>Sector</th>\n",
              "      <th>Beat</th>\n",
              "      <th>Officer_ID</th>\n",
              "      <th>Subject_ID</th>\n",
              "      <th>Subject_Race</th>\n",
              "      <th>Subject_Gender</th>\n",
              "    </tr>\n",
              "    <tr>\n",
              "      <th>ID</th>\n",
              "      <th></th>\n",
              "      <th></th>\n",
              "      <th></th>\n",
              "      <th></th>\n",
              "      <th></th>\n",
              "      <th></th>\n",
              "      <th></th>\n",
              "      <th></th>\n",
              "      <th></th>\n",
              "      <th></th>\n",
              "    </tr>\n",
              "  </thead>\n",
              "  <tbody>\n",
              "    <tr>\n",
              "      <th>2014UOF-0053-627-522</th>\n",
              "      <td>553</td>\n",
              "      <td>Level 1 - Use of Force</td>\n",
              "      <td>07/19/2014 04:44:00 PM</td>\n",
              "      <td>0</td>\n",
              "      <td>0</td>\n",
              "      <td>0</td>\n",
              "      <td>913</td>\n",
              "      <td>520</td>\n",
              "      <td>Black or African American</td>\n",
              "      <td>Male</td>\n",
              "    </tr>\n",
              "    <tr>\n",
              "      <th>2014UOF-0076-375-389</th>\n",
              "      <td>439</td>\n",
              "      <td>Level 1 - Use of Force</td>\n",
              "      <td>07/09/2014 06:02:00 AM</td>\n",
              "      <td>0</td>\n",
              "      <td>0</td>\n",
              "      <td>0</td>\n",
              "      <td>302</td>\n",
              "      <td>388</td>\n",
              "      <td>White</td>\n",
              "      <td>Female</td>\n",
              "    </tr>\n",
              "    <tr>\n",
              "      <th>2014UOF-0080-1010-336</th>\n",
              "      <td>376</td>\n",
              "      <td>Level 1 - Use of Force</td>\n",
              "      <td>07/01/2014 06:00:00 AM</td>\n",
              "      <td>0</td>\n",
              "      <td>0</td>\n",
              "      <td>0</td>\n",
              "      <td>1220</td>\n",
              "      <td>335</td>\n",
              "      <td>White</td>\n",
              "      <td>Male</td>\n",
              "    </tr>\n",
              "    <tr>\n",
              "      <th>2014UOF-0083-1119-435</th>\n",
              "      <td>480</td>\n",
              "      <td>Level 1 - Use of Force</td>\n",
              "      <td>07/12/2014 11:20:00 AM</td>\n",
              "      <td>0</td>\n",
              "      <td>0</td>\n",
              "      <td>0</td>\n",
              "      <td>1800</td>\n",
              "      <td>434</td>\n",
              "      <td>Not Specified</td>\n",
              "      <td>Male</td>\n",
              "    </tr>\n",
              "    <tr>\n",
              "      <th>2014UOF-0154-1528-596</th>\n",
              "      <td>620</td>\n",
              "      <td>Level 1 - Use of Force</td>\n",
              "      <td>07/23/2014 10:12:00 PM</td>\n",
              "      <td>0</td>\n",
              "      <td>0</td>\n",
              "      <td>0</td>\n",
              "      <td>1180</td>\n",
              "      <td>594</td>\n",
              "      <td>Black or African American</td>\n",
              "      <td>Female</td>\n",
              "    </tr>\n",
              "  </tbody>\n",
              "</table>\n",
              "</div>\n",
              "      <button class=\"colab-df-convert\" onclick=\"convertToInteractive('df-f3a2d332-ac78-43e9-8245-71fb670e35e0')\"\n",
              "              title=\"Convert this dataframe to an interactive table.\"\n",
              "              style=\"display:none;\">\n",
              "        \n",
              "  <svg xmlns=\"http://www.w3.org/2000/svg\" height=\"24px\"viewBox=\"0 0 24 24\"\n",
              "       width=\"24px\">\n",
              "    <path d=\"M0 0h24v24H0V0z\" fill=\"none\"/>\n",
              "    <path d=\"M18.56 5.44l.94 2.06.94-2.06 2.06-.94-2.06-.94-.94-2.06-.94 2.06-2.06.94zm-11 1L8.5 8.5l.94-2.06 2.06-.94-2.06-.94L8.5 2.5l-.94 2.06-2.06.94zm10 10l.94 2.06.94-2.06 2.06-.94-2.06-.94-.94-2.06-.94 2.06-2.06.94z\"/><path d=\"M17.41 7.96l-1.37-1.37c-.4-.4-.92-.59-1.43-.59-.52 0-1.04.2-1.43.59L10.3 9.45l-7.72 7.72c-.78.78-.78 2.05 0 2.83L4 21.41c.39.39.9.59 1.41.59.51 0 1.02-.2 1.41-.59l7.78-7.78 2.81-2.81c.8-.78.8-2.07 0-2.86zM5.41 20L4 18.59l7.72-7.72 1.47 1.35L5.41 20z\"/>\n",
              "  </svg>\n",
              "      </button>\n",
              "      \n",
              "  <style>\n",
              "    .colab-df-container {\n",
              "      display:flex;\n",
              "      flex-wrap:wrap;\n",
              "      gap: 12px;\n",
              "    }\n",
              "\n",
              "    .colab-df-convert {\n",
              "      background-color: #E8F0FE;\n",
              "      border: none;\n",
              "      border-radius: 50%;\n",
              "      cursor: pointer;\n",
              "      display: none;\n",
              "      fill: #1967D2;\n",
              "      height: 32px;\n",
              "      padding: 0 0 0 0;\n",
              "      width: 32px;\n",
              "    }\n",
              "\n",
              "    .colab-df-convert:hover {\n",
              "      background-color: #E2EBFA;\n",
              "      box-shadow: 0px 1px 2px rgba(60, 64, 67, 0.3), 0px 1px 3px 1px rgba(60, 64, 67, 0.15);\n",
              "      fill: #174EA6;\n",
              "    }\n",
              "\n",
              "    [theme=dark] .colab-df-convert {\n",
              "      background-color: #3B4455;\n",
              "      fill: #D2E3FC;\n",
              "    }\n",
              "\n",
              "    [theme=dark] .colab-df-convert:hover {\n",
              "      background-color: #434B5C;\n",
              "      box-shadow: 0px 1px 3px 1px rgba(0, 0, 0, 0.15);\n",
              "      filter: drop-shadow(0px 1px 2px rgba(0, 0, 0, 0.3));\n",
              "      fill: #FFFFFF;\n",
              "    }\n",
              "  </style>\n",
              "\n",
              "      <script>\n",
              "        const buttonEl =\n",
              "          document.querySelector('#df-f3a2d332-ac78-43e9-8245-71fb670e35e0 button.colab-df-convert');\n",
              "        buttonEl.style.display =\n",
              "          google.colab.kernel.accessAllowed ? 'block' : 'none';\n",
              "\n",
              "        async function convertToInteractive(key) {\n",
              "          const element = document.querySelector('#df-f3a2d332-ac78-43e9-8245-71fb670e35e0');\n",
              "          const dataTable =\n",
              "            await google.colab.kernel.invokeFunction('convertToInteractive',\n",
              "                                                     [key], {});\n",
              "          if (!dataTable) return;\n",
              "\n",
              "          const docLinkHtml = 'Like what you see? Visit the ' +\n",
              "            '<a target=\"_blank\" href=https://colab.research.google.com/notebooks/data_table.ipynb>data table notebook</a>'\n",
              "            + ' to learn more about interactive tables.';\n",
              "          element.innerHTML = '';\n",
              "          dataTable['output_type'] = 'display_data';\n",
              "          await google.colab.output.renderOutput(dataTable, element);\n",
              "          const docLink = document.createElement('div');\n",
              "          docLink.innerHTML = docLinkHtml;\n",
              "          element.appendChild(docLink);\n",
              "        }\n",
              "      </script>\n",
              "    </div>\n",
              "  </div>\n",
              "  "
            ]
          },
          "metadata": {},
          "execution_count": 147
        }
      ]
    },
    {
      "cell_type": "code",
      "source": [
        "### Buscando se algum individuo reincidente foi classificado de maneiras diferentes\n",
        "for id in df['Subject_ID'].unique():\n",
        "    for column in ['Subject_Race', 'Subject_Gender']:\n",
        "        if len(df[df['Subject_ID'] == id][column].unique()) > 1:\n",
        "            print(id, column, [i for i in df[df['Subject_ID'] == id][column].unique()])"
      ],
      "metadata": {
        "id": "7APcg1XvVvtq"
      },
      "execution_count": 148,
      "outputs": []
    },
    {
      "cell_type": "markdown",
      "source": [
        "Já que não foram encontradas pistas para teterminar o genero dos 557 individuos classificados como ['Unknown', '-', 'Other', 'm'] a mesma abordagem de normaliza-los com o valor 0 e dispensa-los em análises que que levem em conta o genero."
      ],
      "metadata": {
        "id": "_5_-mEmwaOR2"
      }
    },
    {
      "cell_type": "code",
      "source": [
        "for gender in ['Unknown', '-', 'Other', 'm']:\n",
        "    df.loc[df['Subject_Gender'] == gender, 'Subject_Gender'] = 0\n",
        "df[df['Subject_Gender'] == 0].head()"
      ],
      "metadata": {
        "colab": {
          "base_uri": "https://localhost:8080/",
          "height": 368
        },
        "id": "zR_QSjkVbMFE",
        "outputId": "dd02f38a-9d9b-45ee-fdea-6df36640404d"
      },
      "execution_count": 149,
      "outputs": [
        {
          "output_type": "execute_result",
          "data": {
            "text/plain": [
              "                        Incident_Num           Incident_Type  \\\n",
              "ID                                                             \n",
              "2014UOF-0694-1160-1542          1598  Level 1 - Use of Force   \n",
              "2014UOF-0695-1129-1542          1599  Level 1 - Use of Force   \n",
              "2014UOF-0808-1819-1609          1710  Level 1 - Use of Force   \n",
              "2014UOF-0809-1237-1609          1709  Level 1 - Use of Force   \n",
              "2014UOF-0851-1231-1609          1708  Level 1 - Use of Force   \n",
              "\n",
              "                             Occured_date_time Precinct Sector Beat  \\\n",
              "ID                                                                    \n",
              "2014UOF-0694-1160-1542  05/04/2014 05:15:00 AM        0      0    0   \n",
              "2014UOF-0695-1129-1542  05/04/2014 05:10:00 AM    North  UNION   U1   \n",
              "2014UOF-0808-1819-1609  06/05/2014 03:24:00 PM     West  QUEEN   Q2   \n",
              "2014UOF-0809-1237-1609  06/05/2014 03:24:00 PM     West  QUEEN   Q2   \n",
              "2014UOF-0851-1231-1609  06/05/2014 03:24:00 PM     West  QUEEN   Q2   \n",
              "\n",
              "                        Officer_ID  Subject_ID   Subject_Race Subject_Gender  \n",
              "ID                                                                            \n",
              "2014UOF-0694-1160-1542        1223        1537  Not Specified              0  \n",
              "2014UOF-0695-1129-1542        1653        1537  Not Specified              0  \n",
              "2014UOF-0808-1819-1609        1076        1604  Not Specified              0  \n",
              "2014UOF-0809-1237-1609        1644        1604  Not Specified              0  \n",
              "2014UOF-0851-1231-1609        1638        1604  Not Specified              0  "
            ],
            "text/html": [
              "\n",
              "  <div id=\"df-8ae4a54d-65fe-4e26-a806-60aa243196dc\">\n",
              "    <div class=\"colab-df-container\">\n",
              "      <div>\n",
              "<style scoped>\n",
              "    .dataframe tbody tr th:only-of-type {\n",
              "        vertical-align: middle;\n",
              "    }\n",
              "\n",
              "    .dataframe tbody tr th {\n",
              "        vertical-align: top;\n",
              "    }\n",
              "\n",
              "    .dataframe thead th {\n",
              "        text-align: right;\n",
              "    }\n",
              "</style>\n",
              "<table border=\"1\" class=\"dataframe\">\n",
              "  <thead>\n",
              "    <tr style=\"text-align: right;\">\n",
              "      <th></th>\n",
              "      <th>Incident_Num</th>\n",
              "      <th>Incident_Type</th>\n",
              "      <th>Occured_date_time</th>\n",
              "      <th>Precinct</th>\n",
              "      <th>Sector</th>\n",
              "      <th>Beat</th>\n",
              "      <th>Officer_ID</th>\n",
              "      <th>Subject_ID</th>\n",
              "      <th>Subject_Race</th>\n",
              "      <th>Subject_Gender</th>\n",
              "    </tr>\n",
              "    <tr>\n",
              "      <th>ID</th>\n",
              "      <th></th>\n",
              "      <th></th>\n",
              "      <th></th>\n",
              "      <th></th>\n",
              "      <th></th>\n",
              "      <th></th>\n",
              "      <th></th>\n",
              "      <th></th>\n",
              "      <th></th>\n",
              "      <th></th>\n",
              "    </tr>\n",
              "  </thead>\n",
              "  <tbody>\n",
              "    <tr>\n",
              "      <th>2014UOF-0694-1160-1542</th>\n",
              "      <td>1598</td>\n",
              "      <td>Level 1 - Use of Force</td>\n",
              "      <td>05/04/2014 05:15:00 AM</td>\n",
              "      <td>0</td>\n",
              "      <td>0</td>\n",
              "      <td>0</td>\n",
              "      <td>1223</td>\n",
              "      <td>1537</td>\n",
              "      <td>Not Specified</td>\n",
              "      <td>0</td>\n",
              "    </tr>\n",
              "    <tr>\n",
              "      <th>2014UOF-0695-1129-1542</th>\n",
              "      <td>1599</td>\n",
              "      <td>Level 1 - Use of Force</td>\n",
              "      <td>05/04/2014 05:10:00 AM</td>\n",
              "      <td>North</td>\n",
              "      <td>UNION</td>\n",
              "      <td>U1</td>\n",
              "      <td>1653</td>\n",
              "      <td>1537</td>\n",
              "      <td>Not Specified</td>\n",
              "      <td>0</td>\n",
              "    </tr>\n",
              "    <tr>\n",
              "      <th>2014UOF-0808-1819-1609</th>\n",
              "      <td>1710</td>\n",
              "      <td>Level 1 - Use of Force</td>\n",
              "      <td>06/05/2014 03:24:00 PM</td>\n",
              "      <td>West</td>\n",
              "      <td>QUEEN</td>\n",
              "      <td>Q2</td>\n",
              "      <td>1076</td>\n",
              "      <td>1604</td>\n",
              "      <td>Not Specified</td>\n",
              "      <td>0</td>\n",
              "    </tr>\n",
              "    <tr>\n",
              "      <th>2014UOF-0809-1237-1609</th>\n",
              "      <td>1709</td>\n",
              "      <td>Level 1 - Use of Force</td>\n",
              "      <td>06/05/2014 03:24:00 PM</td>\n",
              "      <td>West</td>\n",
              "      <td>QUEEN</td>\n",
              "      <td>Q2</td>\n",
              "      <td>1644</td>\n",
              "      <td>1604</td>\n",
              "      <td>Not Specified</td>\n",
              "      <td>0</td>\n",
              "    </tr>\n",
              "    <tr>\n",
              "      <th>2014UOF-0851-1231-1609</th>\n",
              "      <td>1708</td>\n",
              "      <td>Level 1 - Use of Force</td>\n",
              "      <td>06/05/2014 03:24:00 PM</td>\n",
              "      <td>West</td>\n",
              "      <td>QUEEN</td>\n",
              "      <td>Q2</td>\n",
              "      <td>1638</td>\n",
              "      <td>1604</td>\n",
              "      <td>Not Specified</td>\n",
              "      <td>0</td>\n",
              "    </tr>\n",
              "  </tbody>\n",
              "</table>\n",
              "</div>\n",
              "      <button class=\"colab-df-convert\" onclick=\"convertToInteractive('df-8ae4a54d-65fe-4e26-a806-60aa243196dc')\"\n",
              "              title=\"Convert this dataframe to an interactive table.\"\n",
              "              style=\"display:none;\">\n",
              "        \n",
              "  <svg xmlns=\"http://www.w3.org/2000/svg\" height=\"24px\"viewBox=\"0 0 24 24\"\n",
              "       width=\"24px\">\n",
              "    <path d=\"M0 0h24v24H0V0z\" fill=\"none\"/>\n",
              "    <path d=\"M18.56 5.44l.94 2.06.94-2.06 2.06-.94-2.06-.94-.94-2.06-.94 2.06-2.06.94zm-11 1L8.5 8.5l.94-2.06 2.06-.94-2.06-.94L8.5 2.5l-.94 2.06-2.06.94zm10 10l.94 2.06.94-2.06 2.06-.94-2.06-.94-.94-2.06-.94 2.06-2.06.94z\"/><path d=\"M17.41 7.96l-1.37-1.37c-.4-.4-.92-.59-1.43-.59-.52 0-1.04.2-1.43.59L10.3 9.45l-7.72 7.72c-.78.78-.78 2.05 0 2.83L4 21.41c.39.39.9.59 1.41.59.51 0 1.02-.2 1.41-.59l7.78-7.78 2.81-2.81c.8-.78.8-2.07 0-2.86zM5.41 20L4 18.59l7.72-7.72 1.47 1.35L5.41 20z\"/>\n",
              "  </svg>\n",
              "      </button>\n",
              "      \n",
              "  <style>\n",
              "    .colab-df-container {\n",
              "      display:flex;\n",
              "      flex-wrap:wrap;\n",
              "      gap: 12px;\n",
              "    }\n",
              "\n",
              "    .colab-df-convert {\n",
              "      background-color: #E8F0FE;\n",
              "      border: none;\n",
              "      border-radius: 50%;\n",
              "      cursor: pointer;\n",
              "      display: none;\n",
              "      fill: #1967D2;\n",
              "      height: 32px;\n",
              "      padding: 0 0 0 0;\n",
              "      width: 32px;\n",
              "    }\n",
              "\n",
              "    .colab-df-convert:hover {\n",
              "      background-color: #E2EBFA;\n",
              "      box-shadow: 0px 1px 2px rgba(60, 64, 67, 0.3), 0px 1px 3px 1px rgba(60, 64, 67, 0.15);\n",
              "      fill: #174EA6;\n",
              "    }\n",
              "\n",
              "    [theme=dark] .colab-df-convert {\n",
              "      background-color: #3B4455;\n",
              "      fill: #D2E3FC;\n",
              "    }\n",
              "\n",
              "    [theme=dark] .colab-df-convert:hover {\n",
              "      background-color: #434B5C;\n",
              "      box-shadow: 0px 1px 3px 1px rgba(0, 0, 0, 0.15);\n",
              "      filter: drop-shadow(0px 1px 2px rgba(0, 0, 0, 0.3));\n",
              "      fill: #FFFFFF;\n",
              "    }\n",
              "  </style>\n",
              "\n",
              "      <script>\n",
              "        const buttonEl =\n",
              "          document.querySelector('#df-8ae4a54d-65fe-4e26-a806-60aa243196dc button.colab-df-convert');\n",
              "        buttonEl.style.display =\n",
              "          google.colab.kernel.accessAllowed ? 'block' : 'none';\n",
              "\n",
              "        async function convertToInteractive(key) {\n",
              "          const element = document.querySelector('#df-8ae4a54d-65fe-4e26-a806-60aa243196dc');\n",
              "          const dataTable =\n",
              "            await google.colab.kernel.invokeFunction('convertToInteractive',\n",
              "                                                     [key], {});\n",
              "          if (!dataTable) return;\n",
              "\n",
              "          const docLinkHtml = 'Like what you see? Visit the ' +\n",
              "            '<a target=\"_blank\" href=https://colab.research.google.com/notebooks/data_table.ipynb>data table notebook</a>'\n",
              "            + ' to learn more about interactive tables.';\n",
              "          element.innerHTML = '';\n",
              "          dataTable['output_type'] = 'display_data';\n",
              "          await google.colab.output.renderOutput(dataTable, element);\n",
              "          const docLink = document.createElement('div');\n",
              "          docLink.innerHTML = docLinkHtml;\n",
              "          element.appendChild(docLink);\n",
              "        }\n",
              "      </script>\n",
              "    </div>\n",
              "  </div>\n",
              "  "
            ]
          },
          "metadata": {},
          "execution_count": 149
        }
      ]
    },
    {
      "cell_type": "markdown",
      "source": [
        "Para fins de normalização, o mesmo procedimento será utilizado para inviduos de raça 'Not Specified'."
      ],
      "metadata": {
        "id": "vuNKAW4_c2Th"
      }
    },
    {
      "cell_type": "code",
      "source": [
        "df.loc[df['Subject_Race'] == 'Not Specified', 'Subject_Race'] = 0\n",
        "df[df['Subject_Race'] == 0].head()"
      ],
      "metadata": {
        "colab": {
          "base_uri": "https://localhost:8080/",
          "height": 368
        },
        "id": "cutbiI1_bMPe",
        "outputId": "c60e80db-8249-444c-db91-c578685ab809"
      },
      "execution_count": 150,
      "outputs": [
        {
          "output_type": "execute_result",
          "data": {
            "text/plain": [
              "                       Incident_Num           Incident_Type  \\\n",
              "ID                                                            \n",
              "2014UOF-0006-1216-178           229  Level 1 - Use of Force   \n",
              "2014UOF-0007-810-191            240  Level 1 - Use of Force   \n",
              "2014UOF-0009-1464-191           239  Level 1 - Use of Force   \n",
              "2014UOF-0011-1233-223           284  Level 2 - Use of Force   \n",
              "2014UOF-0012-1464-223           271  Level 2 - Use of Force   \n",
              "\n",
              "                            Occured_date_time Precinct  Sector Beat  \\\n",
              "ID                                                                    \n",
              "2014UOF-0006-1216-178  06/02/2014 05:08:00 AM     West    KING   K1   \n",
              "2014UOF-0007-810-191   06/04/2014 10:10:00 PM     East  GEORGE   G3   \n",
              "2014UOF-0009-1464-191  06/04/2014 10:07:00 PM     East  GEORGE   G3   \n",
              "2014UOF-0011-1233-223  06/11/2014 02:15:00 AM     West    KING   K3   \n",
              "2014UOF-0012-1464-223  06/11/2014 02:15:00 AM     West    KING   K3   \n",
              "\n",
              "                       Officer_ID  Subject_ID Subject_Race Subject_Gender  \n",
              "ID                                                                         \n",
              "2014UOF-0006-1216-178        1783         178            0           Male  \n",
              "2014UOF-0007-810-191          694         191            0         Female  \n",
              "2014UOF-0009-1464-191        1141         191            0         Female  \n",
              "2014UOF-0011-1233-223        1640         223            0           Male  \n",
              "2014UOF-0012-1464-223        1141         223            0           Male  "
            ],
            "text/html": [
              "\n",
              "  <div id=\"df-5b7d3363-1d7a-4d8d-be4e-241cbd18704a\">\n",
              "    <div class=\"colab-df-container\">\n",
              "      <div>\n",
              "<style scoped>\n",
              "    .dataframe tbody tr th:only-of-type {\n",
              "        vertical-align: middle;\n",
              "    }\n",
              "\n",
              "    .dataframe tbody tr th {\n",
              "        vertical-align: top;\n",
              "    }\n",
              "\n",
              "    .dataframe thead th {\n",
              "        text-align: right;\n",
              "    }\n",
              "</style>\n",
              "<table border=\"1\" class=\"dataframe\">\n",
              "  <thead>\n",
              "    <tr style=\"text-align: right;\">\n",
              "      <th></th>\n",
              "      <th>Incident_Num</th>\n",
              "      <th>Incident_Type</th>\n",
              "      <th>Occured_date_time</th>\n",
              "      <th>Precinct</th>\n",
              "      <th>Sector</th>\n",
              "      <th>Beat</th>\n",
              "      <th>Officer_ID</th>\n",
              "      <th>Subject_ID</th>\n",
              "      <th>Subject_Race</th>\n",
              "      <th>Subject_Gender</th>\n",
              "    </tr>\n",
              "    <tr>\n",
              "      <th>ID</th>\n",
              "      <th></th>\n",
              "      <th></th>\n",
              "      <th></th>\n",
              "      <th></th>\n",
              "      <th></th>\n",
              "      <th></th>\n",
              "      <th></th>\n",
              "      <th></th>\n",
              "      <th></th>\n",
              "      <th></th>\n",
              "    </tr>\n",
              "  </thead>\n",
              "  <tbody>\n",
              "    <tr>\n",
              "      <th>2014UOF-0006-1216-178</th>\n",
              "      <td>229</td>\n",
              "      <td>Level 1 - Use of Force</td>\n",
              "      <td>06/02/2014 05:08:00 AM</td>\n",
              "      <td>West</td>\n",
              "      <td>KING</td>\n",
              "      <td>K1</td>\n",
              "      <td>1783</td>\n",
              "      <td>178</td>\n",
              "      <td>0</td>\n",
              "      <td>Male</td>\n",
              "    </tr>\n",
              "    <tr>\n",
              "      <th>2014UOF-0007-810-191</th>\n",
              "      <td>240</td>\n",
              "      <td>Level 1 - Use of Force</td>\n",
              "      <td>06/04/2014 10:10:00 PM</td>\n",
              "      <td>East</td>\n",
              "      <td>GEORGE</td>\n",
              "      <td>G3</td>\n",
              "      <td>694</td>\n",
              "      <td>191</td>\n",
              "      <td>0</td>\n",
              "      <td>Female</td>\n",
              "    </tr>\n",
              "    <tr>\n",
              "      <th>2014UOF-0009-1464-191</th>\n",
              "      <td>239</td>\n",
              "      <td>Level 1 - Use of Force</td>\n",
              "      <td>06/04/2014 10:07:00 PM</td>\n",
              "      <td>East</td>\n",
              "      <td>GEORGE</td>\n",
              "      <td>G3</td>\n",
              "      <td>1141</td>\n",
              "      <td>191</td>\n",
              "      <td>0</td>\n",
              "      <td>Female</td>\n",
              "    </tr>\n",
              "    <tr>\n",
              "      <th>2014UOF-0011-1233-223</th>\n",
              "      <td>284</td>\n",
              "      <td>Level 2 - Use of Force</td>\n",
              "      <td>06/11/2014 02:15:00 AM</td>\n",
              "      <td>West</td>\n",
              "      <td>KING</td>\n",
              "      <td>K3</td>\n",
              "      <td>1640</td>\n",
              "      <td>223</td>\n",
              "      <td>0</td>\n",
              "      <td>Male</td>\n",
              "    </tr>\n",
              "    <tr>\n",
              "      <th>2014UOF-0012-1464-223</th>\n",
              "      <td>271</td>\n",
              "      <td>Level 2 - Use of Force</td>\n",
              "      <td>06/11/2014 02:15:00 AM</td>\n",
              "      <td>West</td>\n",
              "      <td>KING</td>\n",
              "      <td>K3</td>\n",
              "      <td>1141</td>\n",
              "      <td>223</td>\n",
              "      <td>0</td>\n",
              "      <td>Male</td>\n",
              "    </tr>\n",
              "  </tbody>\n",
              "</table>\n",
              "</div>\n",
              "      <button class=\"colab-df-convert\" onclick=\"convertToInteractive('df-5b7d3363-1d7a-4d8d-be4e-241cbd18704a')\"\n",
              "              title=\"Convert this dataframe to an interactive table.\"\n",
              "              style=\"display:none;\">\n",
              "        \n",
              "  <svg xmlns=\"http://www.w3.org/2000/svg\" height=\"24px\"viewBox=\"0 0 24 24\"\n",
              "       width=\"24px\">\n",
              "    <path d=\"M0 0h24v24H0V0z\" fill=\"none\"/>\n",
              "    <path d=\"M18.56 5.44l.94 2.06.94-2.06 2.06-.94-2.06-.94-.94-2.06-.94 2.06-2.06.94zm-11 1L8.5 8.5l.94-2.06 2.06-.94-2.06-.94L8.5 2.5l-.94 2.06-2.06.94zm10 10l.94 2.06.94-2.06 2.06-.94-2.06-.94-.94-2.06-.94 2.06-2.06.94z\"/><path d=\"M17.41 7.96l-1.37-1.37c-.4-.4-.92-.59-1.43-.59-.52 0-1.04.2-1.43.59L10.3 9.45l-7.72 7.72c-.78.78-.78 2.05 0 2.83L4 21.41c.39.39.9.59 1.41.59.51 0 1.02-.2 1.41-.59l7.78-7.78 2.81-2.81c.8-.78.8-2.07 0-2.86zM5.41 20L4 18.59l7.72-7.72 1.47 1.35L5.41 20z\"/>\n",
              "  </svg>\n",
              "      </button>\n",
              "      \n",
              "  <style>\n",
              "    .colab-df-container {\n",
              "      display:flex;\n",
              "      flex-wrap:wrap;\n",
              "      gap: 12px;\n",
              "    }\n",
              "\n",
              "    .colab-df-convert {\n",
              "      background-color: #E8F0FE;\n",
              "      border: none;\n",
              "      border-radius: 50%;\n",
              "      cursor: pointer;\n",
              "      display: none;\n",
              "      fill: #1967D2;\n",
              "      height: 32px;\n",
              "      padding: 0 0 0 0;\n",
              "      width: 32px;\n",
              "    }\n",
              "\n",
              "    .colab-df-convert:hover {\n",
              "      background-color: #E2EBFA;\n",
              "      box-shadow: 0px 1px 2px rgba(60, 64, 67, 0.3), 0px 1px 3px 1px rgba(60, 64, 67, 0.15);\n",
              "      fill: #174EA6;\n",
              "    }\n",
              "\n",
              "    [theme=dark] .colab-df-convert {\n",
              "      background-color: #3B4455;\n",
              "      fill: #D2E3FC;\n",
              "    }\n",
              "\n",
              "    [theme=dark] .colab-df-convert:hover {\n",
              "      background-color: #434B5C;\n",
              "      box-shadow: 0px 1px 3px 1px rgba(0, 0, 0, 0.15);\n",
              "      filter: drop-shadow(0px 1px 2px rgba(0, 0, 0, 0.3));\n",
              "      fill: #FFFFFF;\n",
              "    }\n",
              "  </style>\n",
              "\n",
              "      <script>\n",
              "        const buttonEl =\n",
              "          document.querySelector('#df-5b7d3363-1d7a-4d8d-be4e-241cbd18704a button.colab-df-convert');\n",
              "        buttonEl.style.display =\n",
              "          google.colab.kernel.accessAllowed ? 'block' : 'none';\n",
              "\n",
              "        async function convertToInteractive(key) {\n",
              "          const element = document.querySelector('#df-5b7d3363-1d7a-4d8d-be4e-241cbd18704a');\n",
              "          const dataTable =\n",
              "            await google.colab.kernel.invokeFunction('convertToInteractive',\n",
              "                                                     [key], {});\n",
              "          if (!dataTable) return;\n",
              "\n",
              "          const docLinkHtml = 'Like what you see? Visit the ' +\n",
              "            '<a target=\"_blank\" href=https://colab.research.google.com/notebooks/data_table.ipynb>data table notebook</a>'\n",
              "            + ' to learn more about interactive tables.';\n",
              "          element.innerHTML = '';\n",
              "          dataTable['output_type'] = 'display_data';\n",
              "          await google.colab.output.renderOutput(dataTable, element);\n",
              "          const docLink = document.createElement('div');\n",
              "          docLink.innerHTML = docLinkHtml;\n",
              "          element.appendChild(docLink);\n",
              "        }\n",
              "      </script>\n",
              "    </div>\n",
              "  </div>\n",
              "  "
            ]
          },
          "metadata": {},
          "execution_count": 150
        }
      ]
    },
    {
      "cell_type": "markdown",
      "source": [
        "### Transformações uteis para facilitar visualizações futuras"
      ],
      "metadata": {
        "id": "HxNyCtWRupEc"
      }
    },
    {
      "cell_type": "markdown",
      "source": [
        "Normalizações de data que podem evitar futuros erros de interpretação:\n",
        "- Separar data e hora em colunas distintas\n",
        "- Converter hora para padrão 24hrs\n",
        "- Converter data para padrão brasileiro: 'dia'/'mes'/'ano'\n",
        "- Gerar coluna com dia da semana"
      ],
      "metadata": {
        "id": "I1wwfswb0sqv"
      }
    },
    {
      "cell_type": "code",
      "source": [
        "for data_hora in df['Occured_date_time']:\n",
        "\n",
        "    data, hora, periodo = data_hora.split(' ')\n",
        "\n",
        "    if periodo == 'PM':\n",
        "        hora = hora.split(':')\n",
        "        if hora[0] != '12':\n",
        "            hora[0] = str(int(hora[0])+12)\n",
        "        hora = ':'.join(hora)   \n",
        "    else:\n",
        "        if hora[:2] == '12':\n",
        "            hora = hora.split(':')\n",
        "            hora[0] = '00'\n",
        "            hora = ':'.join(hora)\n",
        "    \n",
        "    mes, dia, ano = data.split('/')\n",
        "    data = '/'.join([dia, mes, ano])\n",
        "    week_day = date(year = int(ano), month = int(mes), day = int(dia))\n",
        "    week_day = week_day.weekday()\n",
        "    \n",
        "    new_columns = ['Occured_data', 'Occured_year', 'Occured_month',\n",
        "                   'Occured_day', 'Occured_time', 'Occured_hour',\n",
        "                   'Occured_week_day']\n",
        "\n",
        "    df.loc[df['Occured_date_time'] == data_hora, new_columns] = data, ano, mes, dia, hora, hora[:2], week_day\n",
        "\n",
        "df = df.drop(columns=['Occured_date_time'])\n",
        "df.head()"
      ],
      "metadata": {
        "colab": {
          "base_uri": "https://localhost:8080/",
          "height": 475
        },
        "id": "kLfNiE8GlgKj",
        "outputId": "15356fdc-f237-4bdb-ebd4-3fbff98e2bae"
      },
      "execution_count": 151,
      "outputs": [
        {
          "output_type": "execute_result",
          "data": {
            "text/plain": [
              "                       Incident_Num           Incident_Type Precinct   Sector  \\\n",
              "ID                                                                              \n",
              "2014UOF-0001-1377-203           251  Level 1 - Use of Force     East  CHARLIE   \n",
              "2014UOF-0002-1098-166           218  Level 1 - Use of Force     East   GEORGE   \n",
              "2014UOF-0003-1031-125           178  Level 1 - Use of Force     West     KING   \n",
              "2014UOF-0004-767-126            179  Level 1 - Use of Force     East   EDWARD   \n",
              "2014UOF-0005-1473-172           223  Level 1 - Use of Force    South   ROBERT   \n",
              "\n",
              "                      Beat  Officer_ID  Subject_ID               Subject_Race  \\\n",
              "ID                                                                              \n",
              "2014UOF-0001-1377-203   C2        1594         203  Black or African American   \n",
              "2014UOF-0002-1098-166   G1        1673         166                      White   \n",
              "2014UOF-0003-1031-125   K3        1690         125                      Asian   \n",
              "2014UOF-0004-767-126    E2         953         126  Black or African American   \n",
              "2014UOF-0005-1473-172   R1        1145         172  Black or African American   \n",
              "\n",
              "                      Subject_Gender Occured_data Occured_year Occured_month  \\\n",
              "ID                                                                             \n",
              "2014UOF-0001-1377-203           Male   07/06/2014         2014            06   \n",
              "2014UOF-0002-1098-166           Male   30/05/2014         2014            05   \n",
              "2014UOF-0003-1031-125         Female   23/05/2014         2014            05   \n",
              "2014UOF-0004-767-126            Male   26/05/2014         2014            05   \n",
              "2014UOF-0005-1473-172           Male   01/06/2014         2014            06   \n",
              "\n",
              "                      Occured_day Occured_time Occured_hour  Occured_week_day  \n",
              "ID                                                                             \n",
              "2014UOF-0001-1377-203          07     00:09:00           00               5.0  \n",
              "2014UOF-0002-1098-166          30     14:06:00           14               4.0  \n",
              "2014UOF-0003-1031-125          23     17:24:00           17               4.0  \n",
              "2014UOF-0004-767-126           26     00:10:00           00               0.0  \n",
              "2014UOF-0005-1473-172          01     16:03:00           16               6.0  "
            ],
            "text/html": [
              "\n",
              "  <div id=\"df-99e56d02-01b0-4da8-9dd5-b536830b2591\">\n",
              "    <div class=\"colab-df-container\">\n",
              "      <div>\n",
              "<style scoped>\n",
              "    .dataframe tbody tr th:only-of-type {\n",
              "        vertical-align: middle;\n",
              "    }\n",
              "\n",
              "    .dataframe tbody tr th {\n",
              "        vertical-align: top;\n",
              "    }\n",
              "\n",
              "    .dataframe thead th {\n",
              "        text-align: right;\n",
              "    }\n",
              "</style>\n",
              "<table border=\"1\" class=\"dataframe\">\n",
              "  <thead>\n",
              "    <tr style=\"text-align: right;\">\n",
              "      <th></th>\n",
              "      <th>Incident_Num</th>\n",
              "      <th>Incident_Type</th>\n",
              "      <th>Precinct</th>\n",
              "      <th>Sector</th>\n",
              "      <th>Beat</th>\n",
              "      <th>Officer_ID</th>\n",
              "      <th>Subject_ID</th>\n",
              "      <th>Subject_Race</th>\n",
              "      <th>Subject_Gender</th>\n",
              "      <th>Occured_data</th>\n",
              "      <th>Occured_year</th>\n",
              "      <th>Occured_month</th>\n",
              "      <th>Occured_day</th>\n",
              "      <th>Occured_time</th>\n",
              "      <th>Occured_hour</th>\n",
              "      <th>Occured_week_day</th>\n",
              "    </tr>\n",
              "    <tr>\n",
              "      <th>ID</th>\n",
              "      <th></th>\n",
              "      <th></th>\n",
              "      <th></th>\n",
              "      <th></th>\n",
              "      <th></th>\n",
              "      <th></th>\n",
              "      <th></th>\n",
              "      <th></th>\n",
              "      <th></th>\n",
              "      <th></th>\n",
              "      <th></th>\n",
              "      <th></th>\n",
              "      <th></th>\n",
              "      <th></th>\n",
              "      <th></th>\n",
              "      <th></th>\n",
              "    </tr>\n",
              "  </thead>\n",
              "  <tbody>\n",
              "    <tr>\n",
              "      <th>2014UOF-0001-1377-203</th>\n",
              "      <td>251</td>\n",
              "      <td>Level 1 - Use of Force</td>\n",
              "      <td>East</td>\n",
              "      <td>CHARLIE</td>\n",
              "      <td>C2</td>\n",
              "      <td>1594</td>\n",
              "      <td>203</td>\n",
              "      <td>Black or African American</td>\n",
              "      <td>Male</td>\n",
              "      <td>07/06/2014</td>\n",
              "      <td>2014</td>\n",
              "      <td>06</td>\n",
              "      <td>07</td>\n",
              "      <td>00:09:00</td>\n",
              "      <td>00</td>\n",
              "      <td>5.0</td>\n",
              "    </tr>\n",
              "    <tr>\n",
              "      <th>2014UOF-0002-1098-166</th>\n",
              "      <td>218</td>\n",
              "      <td>Level 1 - Use of Force</td>\n",
              "      <td>East</td>\n",
              "      <td>GEORGE</td>\n",
              "      <td>G1</td>\n",
              "      <td>1673</td>\n",
              "      <td>166</td>\n",
              "      <td>White</td>\n",
              "      <td>Male</td>\n",
              "      <td>30/05/2014</td>\n",
              "      <td>2014</td>\n",
              "      <td>05</td>\n",
              "      <td>30</td>\n",
              "      <td>14:06:00</td>\n",
              "      <td>14</td>\n",
              "      <td>4.0</td>\n",
              "    </tr>\n",
              "    <tr>\n",
              "      <th>2014UOF-0003-1031-125</th>\n",
              "      <td>178</td>\n",
              "      <td>Level 1 - Use of Force</td>\n",
              "      <td>West</td>\n",
              "      <td>KING</td>\n",
              "      <td>K3</td>\n",
              "      <td>1690</td>\n",
              "      <td>125</td>\n",
              "      <td>Asian</td>\n",
              "      <td>Female</td>\n",
              "      <td>23/05/2014</td>\n",
              "      <td>2014</td>\n",
              "      <td>05</td>\n",
              "      <td>23</td>\n",
              "      <td>17:24:00</td>\n",
              "      <td>17</td>\n",
              "      <td>4.0</td>\n",
              "    </tr>\n",
              "    <tr>\n",
              "      <th>2014UOF-0004-767-126</th>\n",
              "      <td>179</td>\n",
              "      <td>Level 1 - Use of Force</td>\n",
              "      <td>East</td>\n",
              "      <td>EDWARD</td>\n",
              "      <td>E2</td>\n",
              "      <td>953</td>\n",
              "      <td>126</td>\n",
              "      <td>Black or African American</td>\n",
              "      <td>Male</td>\n",
              "      <td>26/05/2014</td>\n",
              "      <td>2014</td>\n",
              "      <td>05</td>\n",
              "      <td>26</td>\n",
              "      <td>00:10:00</td>\n",
              "      <td>00</td>\n",
              "      <td>0.0</td>\n",
              "    </tr>\n",
              "    <tr>\n",
              "      <th>2014UOF-0005-1473-172</th>\n",
              "      <td>223</td>\n",
              "      <td>Level 1 - Use of Force</td>\n",
              "      <td>South</td>\n",
              "      <td>ROBERT</td>\n",
              "      <td>R1</td>\n",
              "      <td>1145</td>\n",
              "      <td>172</td>\n",
              "      <td>Black or African American</td>\n",
              "      <td>Male</td>\n",
              "      <td>01/06/2014</td>\n",
              "      <td>2014</td>\n",
              "      <td>06</td>\n",
              "      <td>01</td>\n",
              "      <td>16:03:00</td>\n",
              "      <td>16</td>\n",
              "      <td>6.0</td>\n",
              "    </tr>\n",
              "  </tbody>\n",
              "</table>\n",
              "</div>\n",
              "      <button class=\"colab-df-convert\" onclick=\"convertToInteractive('df-99e56d02-01b0-4da8-9dd5-b536830b2591')\"\n",
              "              title=\"Convert this dataframe to an interactive table.\"\n",
              "              style=\"display:none;\">\n",
              "        \n",
              "  <svg xmlns=\"http://www.w3.org/2000/svg\" height=\"24px\"viewBox=\"0 0 24 24\"\n",
              "       width=\"24px\">\n",
              "    <path d=\"M0 0h24v24H0V0z\" fill=\"none\"/>\n",
              "    <path d=\"M18.56 5.44l.94 2.06.94-2.06 2.06-.94-2.06-.94-.94-2.06-.94 2.06-2.06.94zm-11 1L8.5 8.5l.94-2.06 2.06-.94-2.06-.94L8.5 2.5l-.94 2.06-2.06.94zm10 10l.94 2.06.94-2.06 2.06-.94-2.06-.94-.94-2.06-.94 2.06-2.06.94z\"/><path d=\"M17.41 7.96l-1.37-1.37c-.4-.4-.92-.59-1.43-.59-.52 0-1.04.2-1.43.59L10.3 9.45l-7.72 7.72c-.78.78-.78 2.05 0 2.83L4 21.41c.39.39.9.59 1.41.59.51 0 1.02-.2 1.41-.59l7.78-7.78 2.81-2.81c.8-.78.8-2.07 0-2.86zM5.41 20L4 18.59l7.72-7.72 1.47 1.35L5.41 20z\"/>\n",
              "  </svg>\n",
              "      </button>\n",
              "      \n",
              "  <style>\n",
              "    .colab-df-container {\n",
              "      display:flex;\n",
              "      flex-wrap:wrap;\n",
              "      gap: 12px;\n",
              "    }\n",
              "\n",
              "    .colab-df-convert {\n",
              "      background-color: #E8F0FE;\n",
              "      border: none;\n",
              "      border-radius: 50%;\n",
              "      cursor: pointer;\n",
              "      display: none;\n",
              "      fill: #1967D2;\n",
              "      height: 32px;\n",
              "      padding: 0 0 0 0;\n",
              "      width: 32px;\n",
              "    }\n",
              "\n",
              "    .colab-df-convert:hover {\n",
              "      background-color: #E2EBFA;\n",
              "      box-shadow: 0px 1px 2px rgba(60, 64, 67, 0.3), 0px 1px 3px 1px rgba(60, 64, 67, 0.15);\n",
              "      fill: #174EA6;\n",
              "    }\n",
              "\n",
              "    [theme=dark] .colab-df-convert {\n",
              "      background-color: #3B4455;\n",
              "      fill: #D2E3FC;\n",
              "    }\n",
              "\n",
              "    [theme=dark] .colab-df-convert:hover {\n",
              "      background-color: #434B5C;\n",
              "      box-shadow: 0px 1px 3px 1px rgba(0, 0, 0, 0.15);\n",
              "      filter: drop-shadow(0px 1px 2px rgba(0, 0, 0, 0.3));\n",
              "      fill: #FFFFFF;\n",
              "    }\n",
              "  </style>\n",
              "\n",
              "      <script>\n",
              "        const buttonEl =\n",
              "          document.querySelector('#df-99e56d02-01b0-4da8-9dd5-b536830b2591 button.colab-df-convert');\n",
              "        buttonEl.style.display =\n",
              "          google.colab.kernel.accessAllowed ? 'block' : 'none';\n",
              "\n",
              "        async function convertToInteractive(key) {\n",
              "          const element = document.querySelector('#df-99e56d02-01b0-4da8-9dd5-b536830b2591');\n",
              "          const dataTable =\n",
              "            await google.colab.kernel.invokeFunction('convertToInteractive',\n",
              "                                                     [key], {});\n",
              "          if (!dataTable) return;\n",
              "\n",
              "          const docLinkHtml = 'Like what you see? Visit the ' +\n",
              "            '<a target=\"_blank\" href=https://colab.research.google.com/notebooks/data_table.ipynb>data table notebook</a>'\n",
              "            + ' to learn more about interactive tables.';\n",
              "          element.innerHTML = '';\n",
              "          dataTable['output_type'] = 'display_data';\n",
              "          await google.colab.output.renderOutput(dataTable, element);\n",
              "          const docLink = document.createElement('div');\n",
              "          docLink.innerHTML = docLinkHtml;\n",
              "          element.appendChild(docLink);\n",
              "        }\n",
              "      </script>\n",
              "    </div>\n",
              "  </div>\n",
              "  "
            ]
          },
          "metadata": {},
          "execution_count": 151
        }
      ]
    },
    {
      "cell_type": "markdown",
      "source": [
        "Encurtar alguns valores do dataframe, também nos ajuda na observação."
      ],
      "metadata": {
        "id": "nICK9Ym51O1N"
      }
    },
    {
      "cell_type": "code",
      "source": [
        "dct = {\n",
        "    'Black or African American' : 'Black',\n",
        "    'American Indian/Alaska Native' : 'American Native',\n",
        "    'Hispanic or Latino' : 'Latino',\n",
        "    'Nat Hawaiian/Oth Pac Islander' : 'Hawaiian',\n",
        "    'White' : 'White',\n",
        "    'Asian' : 'Asian',\n",
        "    0 : 0,\n",
        "    'Two or More Races' : 'Two or More Races'\n",
        "}\n",
        "df['Subject_Race'] = df['Subject_Race'].map(dct)\n",
        "df.head()"
      ],
      "metadata": {
        "colab": {
          "base_uri": "https://localhost:8080/",
          "height": 475
        },
        "id": "gbGb7jC5u0mf",
        "outputId": "31d39faa-f309-41c4-966a-096a090adf5a"
      },
      "execution_count": 152,
      "outputs": [
        {
          "output_type": "execute_result",
          "data": {
            "text/plain": [
              "                       Incident_Num           Incident_Type Precinct   Sector  \\\n",
              "ID                                                                              \n",
              "2014UOF-0001-1377-203           251  Level 1 - Use of Force     East  CHARLIE   \n",
              "2014UOF-0002-1098-166           218  Level 1 - Use of Force     East   GEORGE   \n",
              "2014UOF-0003-1031-125           178  Level 1 - Use of Force     West     KING   \n",
              "2014UOF-0004-767-126            179  Level 1 - Use of Force     East   EDWARD   \n",
              "2014UOF-0005-1473-172           223  Level 1 - Use of Force    South   ROBERT   \n",
              "\n",
              "                      Beat  Officer_ID  Subject_ID Subject_Race  \\\n",
              "ID                                                                \n",
              "2014UOF-0001-1377-203   C2        1594         203        Black   \n",
              "2014UOF-0002-1098-166   G1        1673         166        White   \n",
              "2014UOF-0003-1031-125   K3        1690         125        Asian   \n",
              "2014UOF-0004-767-126    E2         953         126        Black   \n",
              "2014UOF-0005-1473-172   R1        1145         172        Black   \n",
              "\n",
              "                      Subject_Gender Occured_data Occured_year Occured_month  \\\n",
              "ID                                                                             \n",
              "2014UOF-0001-1377-203           Male   07/06/2014         2014            06   \n",
              "2014UOF-0002-1098-166           Male   30/05/2014         2014            05   \n",
              "2014UOF-0003-1031-125         Female   23/05/2014         2014            05   \n",
              "2014UOF-0004-767-126            Male   26/05/2014         2014            05   \n",
              "2014UOF-0005-1473-172           Male   01/06/2014         2014            06   \n",
              "\n",
              "                      Occured_day Occured_time Occured_hour  Occured_week_day  \n",
              "ID                                                                             \n",
              "2014UOF-0001-1377-203          07     00:09:00           00               5.0  \n",
              "2014UOF-0002-1098-166          30     14:06:00           14               4.0  \n",
              "2014UOF-0003-1031-125          23     17:24:00           17               4.0  \n",
              "2014UOF-0004-767-126           26     00:10:00           00               0.0  \n",
              "2014UOF-0005-1473-172          01     16:03:00           16               6.0  "
            ],
            "text/html": [
              "\n",
              "  <div id=\"df-8c653706-1a10-4431-92fd-09a98bf17dc7\">\n",
              "    <div class=\"colab-df-container\">\n",
              "      <div>\n",
              "<style scoped>\n",
              "    .dataframe tbody tr th:only-of-type {\n",
              "        vertical-align: middle;\n",
              "    }\n",
              "\n",
              "    .dataframe tbody tr th {\n",
              "        vertical-align: top;\n",
              "    }\n",
              "\n",
              "    .dataframe thead th {\n",
              "        text-align: right;\n",
              "    }\n",
              "</style>\n",
              "<table border=\"1\" class=\"dataframe\">\n",
              "  <thead>\n",
              "    <tr style=\"text-align: right;\">\n",
              "      <th></th>\n",
              "      <th>Incident_Num</th>\n",
              "      <th>Incident_Type</th>\n",
              "      <th>Precinct</th>\n",
              "      <th>Sector</th>\n",
              "      <th>Beat</th>\n",
              "      <th>Officer_ID</th>\n",
              "      <th>Subject_ID</th>\n",
              "      <th>Subject_Race</th>\n",
              "      <th>Subject_Gender</th>\n",
              "      <th>Occured_data</th>\n",
              "      <th>Occured_year</th>\n",
              "      <th>Occured_month</th>\n",
              "      <th>Occured_day</th>\n",
              "      <th>Occured_time</th>\n",
              "      <th>Occured_hour</th>\n",
              "      <th>Occured_week_day</th>\n",
              "    </tr>\n",
              "    <tr>\n",
              "      <th>ID</th>\n",
              "      <th></th>\n",
              "      <th></th>\n",
              "      <th></th>\n",
              "      <th></th>\n",
              "      <th></th>\n",
              "      <th></th>\n",
              "      <th></th>\n",
              "      <th></th>\n",
              "      <th></th>\n",
              "      <th></th>\n",
              "      <th></th>\n",
              "      <th></th>\n",
              "      <th></th>\n",
              "      <th></th>\n",
              "      <th></th>\n",
              "      <th></th>\n",
              "    </tr>\n",
              "  </thead>\n",
              "  <tbody>\n",
              "    <tr>\n",
              "      <th>2014UOF-0001-1377-203</th>\n",
              "      <td>251</td>\n",
              "      <td>Level 1 - Use of Force</td>\n",
              "      <td>East</td>\n",
              "      <td>CHARLIE</td>\n",
              "      <td>C2</td>\n",
              "      <td>1594</td>\n",
              "      <td>203</td>\n",
              "      <td>Black</td>\n",
              "      <td>Male</td>\n",
              "      <td>07/06/2014</td>\n",
              "      <td>2014</td>\n",
              "      <td>06</td>\n",
              "      <td>07</td>\n",
              "      <td>00:09:00</td>\n",
              "      <td>00</td>\n",
              "      <td>5.0</td>\n",
              "    </tr>\n",
              "    <tr>\n",
              "      <th>2014UOF-0002-1098-166</th>\n",
              "      <td>218</td>\n",
              "      <td>Level 1 - Use of Force</td>\n",
              "      <td>East</td>\n",
              "      <td>GEORGE</td>\n",
              "      <td>G1</td>\n",
              "      <td>1673</td>\n",
              "      <td>166</td>\n",
              "      <td>White</td>\n",
              "      <td>Male</td>\n",
              "      <td>30/05/2014</td>\n",
              "      <td>2014</td>\n",
              "      <td>05</td>\n",
              "      <td>30</td>\n",
              "      <td>14:06:00</td>\n",
              "      <td>14</td>\n",
              "      <td>4.0</td>\n",
              "    </tr>\n",
              "    <tr>\n",
              "      <th>2014UOF-0003-1031-125</th>\n",
              "      <td>178</td>\n",
              "      <td>Level 1 - Use of Force</td>\n",
              "      <td>West</td>\n",
              "      <td>KING</td>\n",
              "      <td>K3</td>\n",
              "      <td>1690</td>\n",
              "      <td>125</td>\n",
              "      <td>Asian</td>\n",
              "      <td>Female</td>\n",
              "      <td>23/05/2014</td>\n",
              "      <td>2014</td>\n",
              "      <td>05</td>\n",
              "      <td>23</td>\n",
              "      <td>17:24:00</td>\n",
              "      <td>17</td>\n",
              "      <td>4.0</td>\n",
              "    </tr>\n",
              "    <tr>\n",
              "      <th>2014UOF-0004-767-126</th>\n",
              "      <td>179</td>\n",
              "      <td>Level 1 - Use of Force</td>\n",
              "      <td>East</td>\n",
              "      <td>EDWARD</td>\n",
              "      <td>E2</td>\n",
              "      <td>953</td>\n",
              "      <td>126</td>\n",
              "      <td>Black</td>\n",
              "      <td>Male</td>\n",
              "      <td>26/05/2014</td>\n",
              "      <td>2014</td>\n",
              "      <td>05</td>\n",
              "      <td>26</td>\n",
              "      <td>00:10:00</td>\n",
              "      <td>00</td>\n",
              "      <td>0.0</td>\n",
              "    </tr>\n",
              "    <tr>\n",
              "      <th>2014UOF-0005-1473-172</th>\n",
              "      <td>223</td>\n",
              "      <td>Level 1 - Use of Force</td>\n",
              "      <td>South</td>\n",
              "      <td>ROBERT</td>\n",
              "      <td>R1</td>\n",
              "      <td>1145</td>\n",
              "      <td>172</td>\n",
              "      <td>Black</td>\n",
              "      <td>Male</td>\n",
              "      <td>01/06/2014</td>\n",
              "      <td>2014</td>\n",
              "      <td>06</td>\n",
              "      <td>01</td>\n",
              "      <td>16:03:00</td>\n",
              "      <td>16</td>\n",
              "      <td>6.0</td>\n",
              "    </tr>\n",
              "  </tbody>\n",
              "</table>\n",
              "</div>\n",
              "      <button class=\"colab-df-convert\" onclick=\"convertToInteractive('df-8c653706-1a10-4431-92fd-09a98bf17dc7')\"\n",
              "              title=\"Convert this dataframe to an interactive table.\"\n",
              "              style=\"display:none;\">\n",
              "        \n",
              "  <svg xmlns=\"http://www.w3.org/2000/svg\" height=\"24px\"viewBox=\"0 0 24 24\"\n",
              "       width=\"24px\">\n",
              "    <path d=\"M0 0h24v24H0V0z\" fill=\"none\"/>\n",
              "    <path d=\"M18.56 5.44l.94 2.06.94-2.06 2.06-.94-2.06-.94-.94-2.06-.94 2.06-2.06.94zm-11 1L8.5 8.5l.94-2.06 2.06-.94-2.06-.94L8.5 2.5l-.94 2.06-2.06.94zm10 10l.94 2.06.94-2.06 2.06-.94-2.06-.94-.94-2.06-.94 2.06-2.06.94z\"/><path d=\"M17.41 7.96l-1.37-1.37c-.4-.4-.92-.59-1.43-.59-.52 0-1.04.2-1.43.59L10.3 9.45l-7.72 7.72c-.78.78-.78 2.05 0 2.83L4 21.41c.39.39.9.59 1.41.59.51 0 1.02-.2 1.41-.59l7.78-7.78 2.81-2.81c.8-.78.8-2.07 0-2.86zM5.41 20L4 18.59l7.72-7.72 1.47 1.35L5.41 20z\"/>\n",
              "  </svg>\n",
              "      </button>\n",
              "      \n",
              "  <style>\n",
              "    .colab-df-container {\n",
              "      display:flex;\n",
              "      flex-wrap:wrap;\n",
              "      gap: 12px;\n",
              "    }\n",
              "\n",
              "    .colab-df-convert {\n",
              "      background-color: #E8F0FE;\n",
              "      border: none;\n",
              "      border-radius: 50%;\n",
              "      cursor: pointer;\n",
              "      display: none;\n",
              "      fill: #1967D2;\n",
              "      height: 32px;\n",
              "      padding: 0 0 0 0;\n",
              "      width: 32px;\n",
              "    }\n",
              "\n",
              "    .colab-df-convert:hover {\n",
              "      background-color: #E2EBFA;\n",
              "      box-shadow: 0px 1px 2px rgba(60, 64, 67, 0.3), 0px 1px 3px 1px rgba(60, 64, 67, 0.15);\n",
              "      fill: #174EA6;\n",
              "    }\n",
              "\n",
              "    [theme=dark] .colab-df-convert {\n",
              "      background-color: #3B4455;\n",
              "      fill: #D2E3FC;\n",
              "    }\n",
              "\n",
              "    [theme=dark] .colab-df-convert:hover {\n",
              "      background-color: #434B5C;\n",
              "      box-shadow: 0px 1px 3px 1px rgba(0, 0, 0, 0.15);\n",
              "      filter: drop-shadow(0px 1px 2px rgba(0, 0, 0, 0.3));\n",
              "      fill: #FFFFFF;\n",
              "    }\n",
              "  </style>\n",
              "\n",
              "      <script>\n",
              "        const buttonEl =\n",
              "          document.querySelector('#df-8c653706-1a10-4431-92fd-09a98bf17dc7 button.colab-df-convert');\n",
              "        buttonEl.style.display =\n",
              "          google.colab.kernel.accessAllowed ? 'block' : 'none';\n",
              "\n",
              "        async function convertToInteractive(key) {\n",
              "          const element = document.querySelector('#df-8c653706-1a10-4431-92fd-09a98bf17dc7');\n",
              "          const dataTable =\n",
              "            await google.colab.kernel.invokeFunction('convertToInteractive',\n",
              "                                                     [key], {});\n",
              "          if (!dataTable) return;\n",
              "\n",
              "          const docLinkHtml = 'Like what you see? Visit the ' +\n",
              "            '<a target=\"_blank\" href=https://colab.research.google.com/notebooks/data_table.ipynb>data table notebook</a>'\n",
              "            + ' to learn more about interactive tables.';\n",
              "          element.innerHTML = '';\n",
              "          dataTable['output_type'] = 'display_data';\n",
              "          await google.colab.output.renderOutput(dataTable, element);\n",
              "          const docLink = document.createElement('div');\n",
              "          docLink.innerHTML = docLinkHtml;\n",
              "          element.appendChild(docLink);\n",
              "        }\n",
              "      </script>\n",
              "    </div>\n",
              "  </div>\n",
              "  "
            ]
          },
          "metadata": {},
          "execution_count": 152
        }
      ]
    },
    {
      "cell_type": "code",
      "source": [
        "dct = {\n",
        "    'Level 1 - Use of Force' : 'Level 1',\n",
        "    'Level 2 - Use of Force' : 'Level 2',\n",
        "    'Level 3 - Use of Force' : 'Level 3',\n",
        "    'Level 3 - OIS' : 'OIS'\n",
        "}\n",
        "df['Incident_Type'] = df['Incident_Type'].map(dct)\n",
        "df.head()"
      ],
      "metadata": {
        "colab": {
          "base_uri": "https://localhost:8080/",
          "height": 475
        },
        "id": "tIiO88XovQXR",
        "outputId": "954cfd89-8b4e-4518-b326-11ee1ef11c54"
      },
      "execution_count": 153,
      "outputs": [
        {
          "output_type": "execute_result",
          "data": {
            "text/plain": [
              "                       Incident_Num Incident_Type Precinct   Sector Beat  \\\n",
              "ID                                                                         \n",
              "2014UOF-0001-1377-203           251       Level 1     East  CHARLIE   C2   \n",
              "2014UOF-0002-1098-166           218       Level 1     East   GEORGE   G1   \n",
              "2014UOF-0003-1031-125           178       Level 1     West     KING   K3   \n",
              "2014UOF-0004-767-126            179       Level 1     East   EDWARD   E2   \n",
              "2014UOF-0005-1473-172           223       Level 1    South   ROBERT   R1   \n",
              "\n",
              "                       Officer_ID  Subject_ID Subject_Race Subject_Gender  \\\n",
              "ID                                                                          \n",
              "2014UOF-0001-1377-203        1594         203        Black           Male   \n",
              "2014UOF-0002-1098-166        1673         166        White           Male   \n",
              "2014UOF-0003-1031-125        1690         125        Asian         Female   \n",
              "2014UOF-0004-767-126          953         126        Black           Male   \n",
              "2014UOF-0005-1473-172        1145         172        Black           Male   \n",
              "\n",
              "                      Occured_data Occured_year Occured_month Occured_day  \\\n",
              "ID                                                                          \n",
              "2014UOF-0001-1377-203   07/06/2014         2014            06          07   \n",
              "2014UOF-0002-1098-166   30/05/2014         2014            05          30   \n",
              "2014UOF-0003-1031-125   23/05/2014         2014            05          23   \n",
              "2014UOF-0004-767-126    26/05/2014         2014            05          26   \n",
              "2014UOF-0005-1473-172   01/06/2014         2014            06          01   \n",
              "\n",
              "                      Occured_time Occured_hour  Occured_week_day  \n",
              "ID                                                                 \n",
              "2014UOF-0001-1377-203     00:09:00           00               5.0  \n",
              "2014UOF-0002-1098-166     14:06:00           14               4.0  \n",
              "2014UOF-0003-1031-125     17:24:00           17               4.0  \n",
              "2014UOF-0004-767-126      00:10:00           00               0.0  \n",
              "2014UOF-0005-1473-172     16:03:00           16               6.0  "
            ],
            "text/html": [
              "\n",
              "  <div id=\"df-43853906-31ad-4aaf-a61d-5f809419cc6d\">\n",
              "    <div class=\"colab-df-container\">\n",
              "      <div>\n",
              "<style scoped>\n",
              "    .dataframe tbody tr th:only-of-type {\n",
              "        vertical-align: middle;\n",
              "    }\n",
              "\n",
              "    .dataframe tbody tr th {\n",
              "        vertical-align: top;\n",
              "    }\n",
              "\n",
              "    .dataframe thead th {\n",
              "        text-align: right;\n",
              "    }\n",
              "</style>\n",
              "<table border=\"1\" class=\"dataframe\">\n",
              "  <thead>\n",
              "    <tr style=\"text-align: right;\">\n",
              "      <th></th>\n",
              "      <th>Incident_Num</th>\n",
              "      <th>Incident_Type</th>\n",
              "      <th>Precinct</th>\n",
              "      <th>Sector</th>\n",
              "      <th>Beat</th>\n",
              "      <th>Officer_ID</th>\n",
              "      <th>Subject_ID</th>\n",
              "      <th>Subject_Race</th>\n",
              "      <th>Subject_Gender</th>\n",
              "      <th>Occured_data</th>\n",
              "      <th>Occured_year</th>\n",
              "      <th>Occured_month</th>\n",
              "      <th>Occured_day</th>\n",
              "      <th>Occured_time</th>\n",
              "      <th>Occured_hour</th>\n",
              "      <th>Occured_week_day</th>\n",
              "    </tr>\n",
              "    <tr>\n",
              "      <th>ID</th>\n",
              "      <th></th>\n",
              "      <th></th>\n",
              "      <th></th>\n",
              "      <th></th>\n",
              "      <th></th>\n",
              "      <th></th>\n",
              "      <th></th>\n",
              "      <th></th>\n",
              "      <th></th>\n",
              "      <th></th>\n",
              "      <th></th>\n",
              "      <th></th>\n",
              "      <th></th>\n",
              "      <th></th>\n",
              "      <th></th>\n",
              "      <th></th>\n",
              "    </tr>\n",
              "  </thead>\n",
              "  <tbody>\n",
              "    <tr>\n",
              "      <th>2014UOF-0001-1377-203</th>\n",
              "      <td>251</td>\n",
              "      <td>Level 1</td>\n",
              "      <td>East</td>\n",
              "      <td>CHARLIE</td>\n",
              "      <td>C2</td>\n",
              "      <td>1594</td>\n",
              "      <td>203</td>\n",
              "      <td>Black</td>\n",
              "      <td>Male</td>\n",
              "      <td>07/06/2014</td>\n",
              "      <td>2014</td>\n",
              "      <td>06</td>\n",
              "      <td>07</td>\n",
              "      <td>00:09:00</td>\n",
              "      <td>00</td>\n",
              "      <td>5.0</td>\n",
              "    </tr>\n",
              "    <tr>\n",
              "      <th>2014UOF-0002-1098-166</th>\n",
              "      <td>218</td>\n",
              "      <td>Level 1</td>\n",
              "      <td>East</td>\n",
              "      <td>GEORGE</td>\n",
              "      <td>G1</td>\n",
              "      <td>1673</td>\n",
              "      <td>166</td>\n",
              "      <td>White</td>\n",
              "      <td>Male</td>\n",
              "      <td>30/05/2014</td>\n",
              "      <td>2014</td>\n",
              "      <td>05</td>\n",
              "      <td>30</td>\n",
              "      <td>14:06:00</td>\n",
              "      <td>14</td>\n",
              "      <td>4.0</td>\n",
              "    </tr>\n",
              "    <tr>\n",
              "      <th>2014UOF-0003-1031-125</th>\n",
              "      <td>178</td>\n",
              "      <td>Level 1</td>\n",
              "      <td>West</td>\n",
              "      <td>KING</td>\n",
              "      <td>K3</td>\n",
              "      <td>1690</td>\n",
              "      <td>125</td>\n",
              "      <td>Asian</td>\n",
              "      <td>Female</td>\n",
              "      <td>23/05/2014</td>\n",
              "      <td>2014</td>\n",
              "      <td>05</td>\n",
              "      <td>23</td>\n",
              "      <td>17:24:00</td>\n",
              "      <td>17</td>\n",
              "      <td>4.0</td>\n",
              "    </tr>\n",
              "    <tr>\n",
              "      <th>2014UOF-0004-767-126</th>\n",
              "      <td>179</td>\n",
              "      <td>Level 1</td>\n",
              "      <td>East</td>\n",
              "      <td>EDWARD</td>\n",
              "      <td>E2</td>\n",
              "      <td>953</td>\n",
              "      <td>126</td>\n",
              "      <td>Black</td>\n",
              "      <td>Male</td>\n",
              "      <td>26/05/2014</td>\n",
              "      <td>2014</td>\n",
              "      <td>05</td>\n",
              "      <td>26</td>\n",
              "      <td>00:10:00</td>\n",
              "      <td>00</td>\n",
              "      <td>0.0</td>\n",
              "    </tr>\n",
              "    <tr>\n",
              "      <th>2014UOF-0005-1473-172</th>\n",
              "      <td>223</td>\n",
              "      <td>Level 1</td>\n",
              "      <td>South</td>\n",
              "      <td>ROBERT</td>\n",
              "      <td>R1</td>\n",
              "      <td>1145</td>\n",
              "      <td>172</td>\n",
              "      <td>Black</td>\n",
              "      <td>Male</td>\n",
              "      <td>01/06/2014</td>\n",
              "      <td>2014</td>\n",
              "      <td>06</td>\n",
              "      <td>01</td>\n",
              "      <td>16:03:00</td>\n",
              "      <td>16</td>\n",
              "      <td>6.0</td>\n",
              "    </tr>\n",
              "  </tbody>\n",
              "</table>\n",
              "</div>\n",
              "      <button class=\"colab-df-convert\" onclick=\"convertToInteractive('df-43853906-31ad-4aaf-a61d-5f809419cc6d')\"\n",
              "              title=\"Convert this dataframe to an interactive table.\"\n",
              "              style=\"display:none;\">\n",
              "        \n",
              "  <svg xmlns=\"http://www.w3.org/2000/svg\" height=\"24px\"viewBox=\"0 0 24 24\"\n",
              "       width=\"24px\">\n",
              "    <path d=\"M0 0h24v24H0V0z\" fill=\"none\"/>\n",
              "    <path d=\"M18.56 5.44l.94 2.06.94-2.06 2.06-.94-2.06-.94-.94-2.06-.94 2.06-2.06.94zm-11 1L8.5 8.5l.94-2.06 2.06-.94-2.06-.94L8.5 2.5l-.94 2.06-2.06.94zm10 10l.94 2.06.94-2.06 2.06-.94-2.06-.94-.94-2.06-.94 2.06-2.06.94z\"/><path d=\"M17.41 7.96l-1.37-1.37c-.4-.4-.92-.59-1.43-.59-.52 0-1.04.2-1.43.59L10.3 9.45l-7.72 7.72c-.78.78-.78 2.05 0 2.83L4 21.41c.39.39.9.59 1.41.59.51 0 1.02-.2 1.41-.59l7.78-7.78 2.81-2.81c.8-.78.8-2.07 0-2.86zM5.41 20L4 18.59l7.72-7.72 1.47 1.35L5.41 20z\"/>\n",
              "  </svg>\n",
              "      </button>\n",
              "      \n",
              "  <style>\n",
              "    .colab-df-container {\n",
              "      display:flex;\n",
              "      flex-wrap:wrap;\n",
              "      gap: 12px;\n",
              "    }\n",
              "\n",
              "    .colab-df-convert {\n",
              "      background-color: #E8F0FE;\n",
              "      border: none;\n",
              "      border-radius: 50%;\n",
              "      cursor: pointer;\n",
              "      display: none;\n",
              "      fill: #1967D2;\n",
              "      height: 32px;\n",
              "      padding: 0 0 0 0;\n",
              "      width: 32px;\n",
              "    }\n",
              "\n",
              "    .colab-df-convert:hover {\n",
              "      background-color: #E2EBFA;\n",
              "      box-shadow: 0px 1px 2px rgba(60, 64, 67, 0.3), 0px 1px 3px 1px rgba(60, 64, 67, 0.15);\n",
              "      fill: #174EA6;\n",
              "    }\n",
              "\n",
              "    [theme=dark] .colab-df-convert {\n",
              "      background-color: #3B4455;\n",
              "      fill: #D2E3FC;\n",
              "    }\n",
              "\n",
              "    [theme=dark] .colab-df-convert:hover {\n",
              "      background-color: #434B5C;\n",
              "      box-shadow: 0px 1px 3px 1px rgba(0, 0, 0, 0.15);\n",
              "      filter: drop-shadow(0px 1px 2px rgba(0, 0, 0, 0.3));\n",
              "      fill: #FFFFFF;\n",
              "    }\n",
              "  </style>\n",
              "\n",
              "      <script>\n",
              "        const buttonEl =\n",
              "          document.querySelector('#df-43853906-31ad-4aaf-a61d-5f809419cc6d button.colab-df-convert');\n",
              "        buttonEl.style.display =\n",
              "          google.colab.kernel.accessAllowed ? 'block' : 'none';\n",
              "\n",
              "        async function convertToInteractive(key) {\n",
              "          const element = document.querySelector('#df-43853906-31ad-4aaf-a61d-5f809419cc6d');\n",
              "          const dataTable =\n",
              "            await google.colab.kernel.invokeFunction('convertToInteractive',\n",
              "                                                     [key], {});\n",
              "          if (!dataTable) return;\n",
              "\n",
              "          const docLinkHtml = 'Like what you see? Visit the ' +\n",
              "            '<a target=\"_blank\" href=https://colab.research.google.com/notebooks/data_table.ipynb>data table notebook</a>'\n",
              "            + ' to learn more about interactive tables.';\n",
              "          element.innerHTML = '';\n",
              "          dataTable['output_type'] = 'display_data';\n",
              "          await google.colab.output.renderOutput(dataTable, element);\n",
              "          const docLink = document.createElement('div');\n",
              "          docLink.innerHTML = docLinkHtml;\n",
              "          element.appendChild(docLink);\n",
              "        }\n",
              "      </script>\n",
              "    </div>\n",
              "  </div>\n",
              "  "
            ]
          },
          "metadata": {},
          "execution_count": 153
        }
      ]
    },
    {
      "cell_type": "markdown",
      "source": [
        "# Questionamento 1\n",
        "\"Com relação à distribuição dos incidentes no tempo, é possível encontrar picos ou linhas de tendência dentro dos dias, meses, semanas ou dos anos?\""
      ],
      "metadata": {
        "id": "DUoqWiZveUTu"
      }
    },
    {
      "cell_type": "markdown",
      "source": [
        "## Dia"
      ],
      "metadata": {
        "id": "_OVyWqo3L7W_"
      }
    },
    {
      "cell_type": "code",
      "source": [
        "column = 'Occured_hour'\n",
        "count = df[[column, 'Incident_Type']].value_counts()\n",
        "df_count = pd.DataFrame(count.index.to_list(), columns=[column, 'Incident_Type'])\n",
        "df_count['count'] = count.values\n",
        "df_count.sort_values(column, inplace=True)\n",
        "\n",
        "for level in ['Level 1', 'Level 2']:\n",
        "    df_temp = df_count[df_count.Incident_Type == level]\n",
        "    plt.plot(df_temp['Occured_hour'], df_temp['count'], label = level)\n",
        "    plt.legend()\n",
        "plt.show()"
      ],
      "metadata": {
        "colab": {
          "base_uri": "https://localhost:8080/",
          "height": 264
        },
        "id": "QkGSTveDMXan",
        "outputId": "8a111c19-a5f1-493e-c0cb-078dd0849977"
      },
      "execution_count": 154,
      "outputs": [
        {
          "output_type": "display_data",
          "data": {
            "text/plain": [
              "<Figure size 432x288 with 1 Axes>"
            ],
            "image/png": "[encoded data removed]"
          },
          "metadata": {
            "needs_background": "light"
          }
        }
      ]
    },
    {
      "cell_type": "code",
      "source": [
        "for level in ['Level 3', 'OIS']:\n",
        "    df_temp = df_count[df_count.Incident_Type == level]\n",
        "    plt.plot(df_temp['Occured_hour'], df_temp['count'], label = level)\n",
        "    plt.legend()\n",
        "plt.show()"
      ],
      "metadata": {
        "colab": {
          "base_uri": "https://localhost:8080/",
          "height": 264
        },
        "id": "CIbm5V64kWHq",
        "outputId": "80842347-ca64-43dc-80d4-92e757c882bc"
      },
      "execution_count": 155,
      "outputs": [
        {
          "output_type": "display_data",
          "data": {
            "text/plain": [
              "<Figure size 432x288 with 1 Axes>"
            ],
            "image/png": "[encoded data removed]"
          },
          "metadata": {
            "needs_background": "light"
          }
        }
      ]
    },
    {
      "cell_type": "markdown",
      "source": [
        "Aparenta demonstrar uma diminuição de ocorrêcias nas primeiras horas da manhã e um pico súbito de ocorrencias com envolvimento em tiroteio entre às oito da noite e dez da noite."
      ],
      "metadata": {
        "id": "vQKF7FsPtLpZ"
      }
    },
    {
      "cell_type": "markdown",
      "source": [
        "##Semana\n"
      ],
      "metadata": {
        "id": "Z-ig4xUfL_wp"
      }
    },
    {
      "cell_type": "code",
      "source": [
        "column = 'Occured_week_day'\n",
        "count = df[[column, 'Incident_Type']].value_counts()\n",
        "df_count = pd.DataFrame(count.index.to_list(), columns=[column, 'Incident_Type'])\n",
        "df_count['count'] = count.values\n",
        "df_count.sort_values(column, inplace=True)\n",
        "\n",
        "for level in ['Level 1', 'Level 2']:\n",
        "    df_temp = df_count[df_count.Incident_Type == level]\n",
        "    plt.plot(df_temp['Occured_week_day'], df_temp['count'], label = level)\n",
        "    plt.legend()\n",
        "plt.show()"
      ],
      "metadata": {
        "colab": {
          "base_uri": "https://localhost:8080/",
          "height": 264
        },
        "id": "-ARWxkynMIMq",
        "outputId": "086acf69-c2be-4eb0-aac7-686559c73a46"
      },
      "execution_count": 156,
      "outputs": [
        {
          "output_type": "display_data",
          "data": {
            "text/plain": [
              "<Figure size 432x288 with 1 Axes>"
            ],
            "image/png": "[encoded data removed]"
          },
          "metadata": {
            "needs_background": "light"
          }
        }
      ]
    },
    {
      "cell_type": "code",
      "source": [
        "for level in ['Level 3', 'OIS']:\n",
        "    df_temp = df_count[df_count.Incident_Type == level]\n",
        "    plt.plot(df_temp['Occured_week_day'], df_temp['count'], label = level)\n",
        "    plt.legend()\n",
        "plt.show()\n"
      ],
      "metadata": {
        "colab": {
          "base_uri": "https://localhost:8080/",
          "height": 264
        },
        "id": "KXeLtyhRis9C",
        "outputId": "f9c5a516-e731-4022-87b1-89eef0c2a600"
      },
      "execution_count": 157,
      "outputs": [
        {
          "output_type": "display_data",
          "data": {
            "text/plain": [
              "<Figure size 432x288 with 1 Axes>"
            ],
            "image/png": "[encoded data removed]"
          },
          "metadata": {
            "needs_background": "light"
          }
        }
      ]
    },
    {
      "cell_type": "markdown",
      "source": [
        "Os sábados parecem ter um pico de incidentes level 2, mas os picos de incidentes Level 3, estranhamente, ocorrem entre a terça-feira e quinta-feira."
      ],
      "metadata": {
        "id": "29I657LRt_om"
      }
    },
    {
      "cell_type": "markdown",
      "source": [
        "##Mês"
      ],
      "metadata": {
        "id": "26y4zZxnMEeL"
      }
    },
    {
      "cell_type": "code",
      "source": [
        "column = 'Occured_day'\n",
        "count = df[[column, 'Incident_Type']].value_counts()\n",
        "df_count = pd.DataFrame(count.index.to_list(), columns=[column, 'Incident_Type'])\n",
        "df_count['count'] = count.values\n",
        "df_count.sort_values(column, inplace=True)\n",
        "\n",
        "for level in ['Level 1', 'Level 2']:\n",
        "    df_temp = df_count[df_count.Incident_Type == level]\n",
        "    plt.plot(df_temp['Occured_day'], df_temp['count'], label = level)\n",
        "    plt.legend()\n",
        "plt.show()"
      ],
      "metadata": {
        "colab": {
          "base_uri": "https://localhost:8080/",
          "height": 265
        },
        "id": "hwbcGnx4mHLj",
        "outputId": "0cf3bb0c-c15c-46d2-e606-65319cc6b6da"
      },
      "execution_count": 158,
      "outputs": [
        {
          "output_type": "display_data",
          "data": {
            "text/plain": [
              "<Figure size 432x288 with 1 Axes>"
            ],
            "image/png": "[encoded data removed]"
          },
          "metadata": {
            "needs_background": "light"
          }
        }
      ]
    },
    {
      "cell_type": "code",
      "source": [
        "for level in ['Level 3', 'OIS']:\n",
        "    df_temp = df_count[df_count.Incident_Type == level]\n",
        "    plt.plot(df_temp['Occured_day'], df_temp['count'], label = level)\n",
        "    plt.legend()\n",
        "plt.show()"
      ],
      "metadata": {
        "colab": {
          "base_uri": "https://localhost:8080/",
          "height": 264
        },
        "id": "rRWe9UPmmHsN",
        "outputId": "92fac1e9-85ee-4c69-d005-1ee506344a8c"
      },
      "execution_count": 159,
      "outputs": [
        {
          "output_type": "display_data",
          "data": {
            "text/plain": [
              "<Figure size 432x288 with 1 Axes>"
            ],
            "image/png": "[encoded data removed]"
          },
          "metadata": {
            "needs_background": "light"
          }
        }
      ]
    },
    {
      "cell_type": "markdown",
      "source": [
        "Parece haver uma tendencia ao meio do mê ser um periodo mais pacifico e um pico de incidentes com tiroteio no fim do mês."
      ],
      "metadata": {
        "id": "z64sgjumEtrW"
      }
    },
    {
      "cell_type": "markdown",
      "source": [
        "##Ano"
      ],
      "metadata": {
        "id": "e0JuxaNPMGf9"
      }
    },
    {
      "cell_type": "code",
      "source": [
        "column = 'Occured_month'\n",
        "count = df[[column, 'Incident_Type']].value_counts()\n",
        "df_count = pd.DataFrame(count.index.to_list(), columns=[column, 'Incident_Type'])\n",
        "df_count['count'] = count.values\n",
        "df_count.sort_values(column, inplace=True)\n",
        "\n",
        "for level in ['Level 1', 'Level 2']:\n",
        "    df_temp = df_count[df_count.Incident_Type == level]\n",
        "    plt.plot(df_temp['Occured_month'], df_temp['count'], label = level)\n",
        "    plt.legend()\n",
        "plt.show()"
      ],
      "metadata": {
        "colab": {
          "base_uri": "https://localhost:8080/",
          "height": 264
        },
        "id": "D13uGjpimJWx",
        "outputId": "006ca5ce-7feb-4d71-c8ba-05bdbd6d616a"
      },
      "execution_count": 160,
      "outputs": [
        {
          "output_type": "display_data",
          "data": {
            "text/plain": [
              "<Figure size 432x288 with 1 Axes>"
            ],
            "image/png": "[encoded data removed]"
          },
          "metadata": {
            "needs_background": "light"
          }
        }
      ]
    },
    {
      "cell_type": "code",
      "source": [
        "for level in ['Level 3', 'OIS']:\n",
        "    df_temp = df_count[df_count.Incident_Type == level]\n",
        "    plt.plot(df_temp['Occured_month'], df_temp['count'], label = level)\n",
        "    plt.legend()\n",
        "plt.show()"
      ],
      "metadata": {
        "colab": {
          "base_uri": "https://localhost:8080/",
          "height": 264
        },
        "id": "7gvP_ALYmJev",
        "outputId": "9708a9d7-8011-4fe7-91e6-8b233050d867"
      },
      "execution_count": 161,
      "outputs": [
        {
          "output_type": "display_data",
          "data": {
            "text/plain": [
              "<Figure size 432x288 with 1 Axes>"
            ],
            "image/png": "[encoded data removed]"
          },
          "metadata": {
            "needs_background": "light"
          }
        }
      ]
    },
    {
      "cell_type": "markdown",
      "source": [
        "Os meses do meio do ano aparecem como os meses com mais ocorrências em geral, mas o pico de incidentes envolvendo tirotei dispara rumo ao fim do ano e sofre uma queda brusca em janeiro."
      ],
      "metadata": {
        "id": "YRIHuhX_vTHi"
      }
    },
    {
      "cell_type": "markdown",
      "source": [
        "## Decorrer dos anos"
      ],
      "metadata": {
        "id": "bcCViumRmOZf"
      }
    },
    {
      "cell_type": "code",
      "source": [
        "column = 'Occured_year'\n",
        "count = df[[column, 'Incident_Type']].value_counts()\n",
        "df_count = pd.DataFrame(count.index.to_list(), columns=[column, 'Incident_Type'])\n",
        "df_count['count'] = count.values\n",
        "df_count.sort_values(column, inplace=True)\n",
        "\n",
        "for level in ['Level 1', 'Level 2']:\n",
        "    df_temp = df_count[df_count.Incident_Type == level]\n",
        "    plt.plot(df_temp['Occured_year'], df_temp['count'], label = level)\n",
        "    plt.legend()\n",
        "plt.show()"
      ],
      "metadata": {
        "colab": {
          "base_uri": "https://localhost:8080/",
          "height": 264
        },
        "id": "6NlR-iujmMv6",
        "outputId": "332f7887-9973-47fc-e5d8-79a4ce328790"
      },
      "execution_count": 162,
      "outputs": [
        {
          "output_type": "display_data",
          "data": {
            "text/plain": [
              "<Figure size 432x288 with 1 Axes>"
            ],
            "image/png": "[encoded data removed]"
          },
          "metadata": {
            "needs_background": "light"
          }
        }
      ]
    },
    {
      "cell_type": "code",
      "source": [
        "for level in ['Level 3', 'OIS']:\n",
        "    df_temp = df_count[df_count.Incident_Type == level]\n",
        "    plt.plot(df_temp['Occured_year'], df_temp['count'], label = level)\n",
        "    plt.legend()\n",
        "plt.show()"
      ],
      "metadata": {
        "colab": {
          "base_uri": "https://localhost:8080/",
          "height": 266
        },
        "id": "NnVDxwSYmR8S",
        "outputId": "f0beee9a-33c1-45ec-c395-f8b242f6d2fd"
      },
      "execution_count": 163,
      "outputs": [
        {
          "output_type": "display_data",
          "data": {
            "text/plain": [
              "<Figure size 432x288 with 1 Axes>"
            ],
            "image/png": "[encoded data removed]"
          },
          "metadata": {
            "needs_background": "light"
          }
        }
      ]
    },
    {
      "cell_type": "markdown",
      "source": [
        "Apesar de uma subta elevação nos incidentes de Level 2 em 2020, os numeros de ocorrências vem mostrando uma tendencia de queda desde 2018."
      ],
      "metadata": {
        "id": "FW68KR_6vqhu"
      }
    },
    {
      "cell_type": "markdown",
      "source": [
        "# Questionamento 2\n",
        "\"Uma métrica interessante para a polícia é o grau de reincidência por parte dos civis. Apresente o percentual de casos reincidentes em relação ao total de incidentes em cada setor e verifique se há correlação entre esta métrica e o percentual de incidentes “Level 2” calculado na questão. Que interpretação pode ser dada a este resultado?\""
      ],
      "metadata": {
        "id": "AC1Kq-JQLC8i"
      }
    },
    {
      "cell_type": "code",
      "source": [
        "dct = {\n",
        "    'setor' : [],\n",
        "    'quantidade' : [],\n",
        "    'tipo' : []\n",
        "}\n",
        "for sector in df.Sector.unique():\n",
        "    ids = list(df[df.Sector == sector].Subject_ID.value_counts())\n",
        "    reincidencia = round((len([i for i in ids if i > 1])/len(ids))*100, 2)\n",
        "\n",
        "    levels = df[df.Sector == sector].Incident_Type.value_counts()\n",
        "    index = list(levels.index).index('Level 2')\n",
        "    levels = list(levels)\n",
        "    level_2 = round((levels[index]/sum(levels))*100, 2)\n",
        "\n",
        "    dct['setor'] += [sector, sector]\n",
        "    dct['quantidade'] += [reincidencia, level_2]\n",
        "    dct['tipo'] += ['Reincidencia','Level 2']\n",
        "\n",
        "sns.catplot(\n",
        "        data = pd.DataFrame.from_dict(dct),\n",
        "        kind = \"bar\",\n",
        "        x = 'quantidade',\n",
        "        y = 'setor',\n",
        "        hue = 'tipo',\n",
        "        palette='tab10'\n",
        "    ).set(title='Relação de porcentagem de reincidência e level 2 por setor')\n",
        "plt.show()"
      ],
      "metadata": {
        "colab": {
          "base_uri": "https://localhost:8080/",
          "height": 387
        },
        "id": "StML6Akrv8N7",
        "outputId": "07a15ff5-981c-49f8-e5b2-3335b18b93a2"
      },
      "execution_count": 164,
      "outputs": [
        {
          "output_type": "display_data",
          "data": {
            "text/plain": [
              "<Figure size 426.135x360 with 1 Axes>"
            ],
            "image/png": "[encoded data removed]"
          },
          "metadata": {
            "needs_background": "light"
          }
        }
      ]
    },
    {
      "cell_type": "markdown",
      "source": [
        "É dificil afirmar uma relação entre as métricas quando uma delas varia tão pouco quanto a porcentagem de reincidencia e a outra varia tanto.\n",
        "Mesmo assim, dado o fato de alguns setores com os mais alto indices de reincidencia chegarem a coincidir com os mais baixos indices de ocorrencias de Level 2, pode-se afirmar não haver relação entre ambos. "
      ],
      "metadata": {
        "id": "VMu0eVrfAo6I"
      }
    },
    {
      "cell_type": "markdown",
      "source": [
        "# Questionamento 3\n",
        "\"Considerando que é interessante para a Polícia de Seattle predizer o possível nível do uso da forca policial empregado em uma ocorrência, crie um modelo de classificação utilizando técnicas clássicas de Aprendizagem de Máquina (por exemplo: Regressão logística, Árvores de Decisão, Máquina de Vetores de Suporte (SVM)). Utilize diferentes métricas para avaliar o seu modelo. Qual acurácia seu modelo obteve e a que se deve isto?\""
      ],
      "metadata": {
        "id": "iOMeRnw8LNfE"
      }
    },
    {
      "cell_type": "code",
      "source": [
        "from sklearn.preprocessing import StandardScaler, LabelEncoder\n",
        "from sklearn.model_selection import train_test_split\n",
        "\n",
        "from sklearn.metrics import confusion_matrix\n",
        "from mlxtend.plotting import plot_confusion_matrix"
      ],
      "metadata": {
        "id": "DxTQnFkcod8Y"
      },
      "execution_count": 165,
      "outputs": []
    },
    {
      "cell_type": "markdown",
      "source": [
        "##Conversão de Dados"
      ],
      "metadata": {
        "id": "bF3U5uM9nTwi"
      }
    },
    {
      "cell_type": "code",
      "source": [
        "# TRansformar 0 em NaN para facilitar descarte e futuras edições\n",
        "for column in ['Beat', 'Subject_Race', 'Subject_Gender']:\n",
        "    df.loc[df[column] == 0, column] = float(\"NaN\")"
      ],
      "metadata": {
        "id": "_C-7Bq9jW824"
      },
      "execution_count": 252,
      "outputs": []
    },
    {
      "cell_type": "code",
      "source": [
        "Y = df.dropna()\n",
        "X = Y[['Beat', 'Officer_ID', 'Subject_Race', 'Subject_Gender', 'Occured_year', 'Occured_month', 'Occured_day', 'Occured_hour',\t'Occured_week_day']]\n",
        "Y = Y[['Incident_Type']]"
      ],
      "metadata": {
        "id": "9rM2BmgQD4EJ"
      },
      "execution_count": 253,
      "outputs": []
    },
    {
      "cell_type": "code",
      "source": [
        "for column in ['Beat', 'Subject_Race', 'Subject_Gender', 'Occured_year', 'Occured_month', 'Occured_day', 'Occured_hour', 'Occured_week_day']:\n",
        "    dct = dict([(x,i) for i,x in enumerate(X[column].unique())])\n",
        "    X[column] = X[column].map(dct)\n",
        "X.head()"
      ],
      "metadata": {
        "colab": {
          "base_uri": "https://localhost:8080/",
          "height": 238
        },
        "id": "Yhu20Qh5Lpli",
        "outputId": "23584366-ce88-426e-a67c-e7e6508442d9"
      },
      "execution_count": 254,
      "outputs": [
        {
          "output_type": "execute_result",
          "data": {
            "text/plain": [
              "                       Beat  Officer_ID  Subject_Race  Subject_Gender  \\\n",
              "ID                                                                      \n",
              "2014UOF-0001-1377-203     0        1594             0               0   \n",
              "2014UOF-0002-1098-166     1        1673             1               0   \n",
              "2014UOF-0003-1031-125     2        1690             2               1   \n",
              "2014UOF-0004-767-126      3         953             0               0   \n",
              "2014UOF-0005-1473-172     4        1145             0               0   \n",
              "\n",
              "                       Occured_year  Occured_month  Occured_day  Occured_hour  \\\n",
              "ID                                                                              \n",
              "2014UOF-0001-1377-203             0              0            0             0   \n",
              "2014UOF-0002-1098-166             0              1            1             1   \n",
              "2014UOF-0003-1031-125             0              1            2             2   \n",
              "2014UOF-0004-767-126              0              1            3             0   \n",
              "2014UOF-0005-1473-172             0              0            4             3   \n",
              "\n",
              "                       Occured_week_day  \n",
              "ID                                       \n",
              "2014UOF-0001-1377-203                 0  \n",
              "2014UOF-0002-1098-166                 1  \n",
              "2014UOF-0003-1031-125                 1  \n",
              "2014UOF-0004-767-126                  2  \n",
              "2014UOF-0005-1473-172                 3  "
            ],
            "text/html": [
              "\n",
              "  <div id=\"df-276b5178-b4d7-4955-807a-445813acb98a\">\n",
              "    <div class=\"colab-df-container\">\n",
              "      <div>\n",
              "<style scoped>\n",
              "    .dataframe tbody tr th:only-of-type {\n",
              "        vertical-align: middle;\n",
              "    }\n",
              "\n",
              "    .dataframe tbody tr th {\n",
              "        vertical-align: top;\n",
              "    }\n",
              "\n",
              "    .dataframe thead th {\n",
              "        text-align: right;\n",
              "    }\n",
              "</style>\n",
              "<table border=\"1\" class=\"dataframe\">\n",
              "  <thead>\n",
              "    <tr style=\"text-align: right;\">\n",
              "      <th></th>\n",
              "      <th>Beat</th>\n",
              "      <th>Officer_ID</th>\n",
              "      <th>Subject_Race</th>\n",
              "      <th>Subject_Gender</th>\n",
              "      <th>Occured_year</th>\n",
              "      <th>Occured_month</th>\n",
              "      <th>Occured_day</th>\n",
              "      <th>Occured_hour</th>\n",
              "      <th>Occured_week_day</th>\n",
              "    </tr>\n",
              "    <tr>\n",
              "      <th>ID</th>\n",
              "      <th></th>\n",
              "      <th></th>\n",
              "      <th></th>\n",
              "      <th></th>\n",
              "      <th></th>\n",
              "      <th></th>\n",
              "      <th></th>\n",
              "      <th></th>\n",
              "      <th></th>\n",
              "    </tr>\n",
              "  </thead>\n",
              "  <tbody>\n",
              "    <tr>\n",
              "      <th>2014UOF-0001-1377-203</th>\n",
              "      <td>0</td>\n",
              "      <td>1594</td>\n",
              "      <td>0</td>\n",
              "      <td>0</td>\n",
              "      <td>0</td>\n",
              "      <td>0</td>\n",
              "      <td>0</td>\n",
              "      <td>0</td>\n",
              "      <td>0</td>\n",
              "    </tr>\n",
              "    <tr>\n",
              "      <th>2014UOF-0002-1098-166</th>\n",
              "      <td>1</td>\n",
              "      <td>1673</td>\n",
              "      <td>1</td>\n",
              "      <td>0</td>\n",
              "      <td>0</td>\n",
              "      <td>1</td>\n",
              "      <td>1</td>\n",
              "      <td>1</td>\n",
              "      <td>1</td>\n",
              "    </tr>\n",
              "    <tr>\n",
              "      <th>2014UOF-0003-1031-125</th>\n",
              "      <td>2</td>\n",
              "      <td>1690</td>\n",
              "      <td>2</td>\n",
              "      <td>1</td>\n",
              "      <td>0</td>\n",
              "      <td>1</td>\n",
              "      <td>2</td>\n",
              "      <td>2</td>\n",
              "      <td>1</td>\n",
              "    </tr>\n",
              "    <tr>\n",
              "      <th>2014UOF-0004-767-126</th>\n",
              "      <td>3</td>\n",
              "      <td>953</td>\n",
              "      <td>0</td>\n",
              "      <td>0</td>\n",
              "      <td>0</td>\n",
              "      <td>1</td>\n",
              "      <td>3</td>\n",
              "      <td>0</td>\n",
              "      <td>2</td>\n",
              "    </tr>\n",
              "    <tr>\n",
              "      <th>2014UOF-0005-1473-172</th>\n",
              "      <td>4</td>\n",
              "      <td>1145</td>\n",
              "      <td>0</td>\n",
              "      <td>0</td>\n",
              "      <td>0</td>\n",
              "      <td>0</td>\n",
              "      <td>4</td>\n",
              "      <td>3</td>\n",
              "      <td>3</td>\n",
              "    </tr>\n",
              "  </tbody>\n",
              "</table>\n",
              "</div>\n",
              "      <button class=\"colab-df-convert\" onclick=\"convertToInteractive('df-276b5178-b4d7-4955-807a-445813acb98a')\"\n",
              "              title=\"Convert this dataframe to an interactive table.\"\n",
              "              style=\"display:none;\">\n",
              "        \n",
              "  <svg xmlns=\"http://www.w3.org/2000/svg\" height=\"24px\"viewBox=\"0 0 24 24\"\n",
              "       width=\"24px\">\n",
              "    <path d=\"M0 0h24v24H0V0z\" fill=\"none\"/>\n",
              "    <path d=\"M18.56 5.44l.94 2.06.94-2.06 2.06-.94-2.06-.94-.94-2.06-.94 2.06-2.06.94zm-11 1L8.5 8.5l.94-2.06 2.06-.94-2.06-.94L8.5 2.5l-.94 2.06-2.06.94zm10 10l.94 2.06.94-2.06 2.06-.94-2.06-.94-.94-2.06-.94 2.06-2.06.94z\"/><path d=\"M17.41 7.96l-1.37-1.37c-.4-.4-.92-.59-1.43-.59-.52 0-1.04.2-1.43.59L10.3 9.45l-7.72 7.72c-.78.78-.78 2.05 0 2.83L4 21.41c.39.39.9.59 1.41.59.51 0 1.02-.2 1.41-.59l7.78-7.78 2.81-2.81c.8-.78.8-2.07 0-2.86zM5.41 20L4 18.59l7.72-7.72 1.47 1.35L5.41 20z\"/>\n",
              "  </svg>\n",
              "      </button>\n",
              "      \n",
              "  <style>\n",
              "    .colab-df-container {\n",
              "      display:flex;\n",
              "      flex-wrap:wrap;\n",
              "      gap: 12px;\n",
              "    }\n",
              "\n",
              "    .colab-df-convert {\n",
              "      background-color: #E8F0FE;\n",
              "      border: none;\n",
              "      border-radius: 50%;\n",
              "      cursor: pointer;\n",
              "      display: none;\n",
              "      fill: #1967D2;\n",
              "      height: 32px;\n",
              "      padding: 0 0 0 0;\n",
              "      width: 32px;\n",
              "    }\n",
              "\n",
              "    .colab-df-convert:hover {\n",
              "      background-color: #E2EBFA;\n",
              "      box-shadow: 0px 1px 2px rgba(60, 64, 67, 0.3), 0px 1px 3px 1px rgba(60, 64, 67, 0.15);\n",
              "      fill: #174EA6;\n",
              "    }\n",
              "\n",
              "    [theme=dark] .colab-df-convert {\n",
              "      background-color: #3B4455;\n",
              "      fill: #D2E3FC;\n",
              "    }\n",
              "\n",
              "    [theme=dark] .colab-df-convert:hover {\n",
              "      background-color: #434B5C;\n",
              "      box-shadow: 0px 1px 3px 1px rgba(0, 0, 0, 0.15);\n",
              "      filter: drop-shadow(0px 1px 2px rgba(0, 0, 0, 0.3));\n",
              "      fill: #FFFFFF;\n",
              "    }\n",
              "  </style>\n",
              "\n",
              "      <script>\n",
              "        const buttonEl =\n",
              "          document.querySelector('#df-276b5178-b4d7-4955-807a-445813acb98a button.colab-df-convert');\n",
              "        buttonEl.style.display =\n",
              "          google.colab.kernel.accessAllowed ? 'block' : 'none';\n",
              "\n",
              "        async function convertToInteractive(key) {\n",
              "          const element = document.querySelector('#df-276b5178-b4d7-4955-807a-445813acb98a');\n",
              "          const dataTable =\n",
              "            await google.colab.kernel.invokeFunction('convertToInteractive',\n",
              "                                                     [key], {});\n",
              "          if (!dataTable) return;\n",
              "\n",
              "          const docLinkHtml = 'Like what you see? Visit the ' +\n",
              "            '<a target=\"_blank\" href=https://colab.research.google.com/notebooks/data_table.ipynb>data table notebook</a>'\n",
              "            + ' to learn more about interactive tables.';\n",
              "          element.innerHTML = '';\n",
              "          dataTable['output_type'] = 'display_data';\n",
              "          await google.colab.output.renderOutput(dataTable, element);\n",
              "          const docLink = document.createElement('div');\n",
              "          docLink.innerHTML = docLinkHtml;\n",
              "          element.appendChild(docLink);\n",
              "        }\n",
              "      </script>\n",
              "    </div>\n",
              "  </div>\n",
              "  "
            ]
          },
          "metadata": {},
          "execution_count": 254
        }
      ]
    },
    {
      "cell_type": "code",
      "source": [
        "dct_incident = dict([(y,i) for i,y in enumerate(Y['Incident_Type'].unique())])\n",
        "Y['Incident_Type'] = Y['Incident_Type'].map(dct_incident)"
      ],
      "metadata": {
        "id": "5YGKyhyBXU2q"
      },
      "execution_count": 255,
      "outputs": []
    },
    {
      "cell_type": "code",
      "source": [
        "scaler = StandardScaler() \n",
        "X = scaler.fit_transform(X)\n",
        "\n",
        "lab = LabelEncoder()\n",
        "Y = lab.fit_transform(Y)\n",
        "\n",
        "x_train, x_test, y_train, y_test = train_test_split(X,Y, test_size=0.25)"
      ],
      "metadata": {
        "id": "h3mICt_jYcDB",
        "colab": {
          "base_uri": "https://localhost:8080/"
        },
        "outputId": "52f3a3d4-bb3b-40a6-ec96-190d7cf9a417"
      },
      "execution_count": 256,
      "outputs": [
        {
          "output_type": "stream",
          "name": "stderr",
          "text": [
            "/usr/local/lib/python3.7/dist-packages/sklearn/preprocessing/_label.py:115: DataConversionWarning: A column-vector y was passed when a 1d array was expected. Please change the shape of y to (n_samples, ), for example using ravel().\n",
            "  y = column_or_1d(y, warn=True)\n"
          ]
        }
      ]
    },
    {
      "cell_type": "markdown",
      "source": [
        "##Construção de Métricas"
      ],
      "metadata": {
        "id": "2_tLi7ntdrag"
      }
    },
    {
      "cell_type": "code",
      "source": [
        "dct_incident = {v: k for k, v in sorted(dct_incident.items())}\n",
        "def Metricas(predict, y_test, tipo_aprendizado):\n",
        "    matriz = confusion_matrix(y_test, predict)\n",
        "    for i in dct_incident:\n",
        "        print(f'{dct_incident[i]} ({i}): {matriz[i][i]/matriz[i].sum()*100:0.2f}% de acerto')\n",
        "    fig, ax = plot_confusion_matrix(conf_mat=matriz, figsize=(6, 6))\n",
        "    plt.xlabel('Predictions', fontsize=18)\n",
        "    plt.ylabel('Actuals', fontsize=18)\n",
        "    plt.title(f'Confusion Matrix {tipo_aprendizado}', fontsize=18)\n",
        "    plt.show()"
      ],
      "metadata": {
        "id": "fM7GKfD0bh2-"
      },
      "execution_count": 320,
      "outputs": []
    },
    {
      "cell_type": "markdown",
      "source": [
        "##Logistic Regression"
      ],
      "metadata": {
        "id": "s5G1ytJLl_0C"
      }
    },
    {
      "cell_type": "code",
      "source": [
        "from sklearn.linear_model import LogisticRegression"
      ],
      "metadata": {
        "id": "r9z2DuTgnjSb"
      },
      "execution_count": 321,
      "outputs": []
    },
    {
      "cell_type": "code",
      "source": [
        "classifier_LR = LogisticRegression()\n",
        "classifier_LR.fit(x_train, y_train)\n",
        "\n",
        "print('Score:', classifier_LR.score(x_test, y_test))"
      ],
      "metadata": {
        "colab": {
          "base_uri": "https://localhost:8080/"
        },
        "id": "tm_rl3N1Zj17",
        "outputId": "4d3a3336-3bcf-4ffd-a6f2-ddf6af8bc094"
      },
      "execution_count": 322,
      "outputs": [
        {
          "output_type": "stream",
          "name": "stdout",
          "text": [
            "Score: 0.7347167694896243\n"
          ]
        }
      ]
    },
    {
      "cell_type": "code",
      "source": [
        "Metricas(classifier_LR.predict(x_test), y_test, 'Logistic Regression')"
      ],
      "metadata": {
        "colab": {
          "base_uri": "https://localhost:8080/",
          "height": 500
        },
        "id": "sBoYyNIPdX07",
        "outputId": "b62cbbfe-5069-42fb-e41c-d3e83137010e"
      },
      "execution_count": 323,
      "outputs": [
        {
          "output_type": "stream",
          "name": "stdout",
          "text": [
            "Level 1 (0): 99.54 % de acerto\n",
            "Level 2 (3): 0.00 % de acerto\n",
            "Level 3 (1): 4.17 % de acerto\n",
            "OIS (2): 0.00 % de acerto\n"
          ]
        },
        {
          "output_type": "display_data",
          "data": {
            "text/plain": [
              "<Figure size 432x432 with 1 Axes>"
            ],
            "image/png": "[encoded data removed]"
          },
          "metadata": {
            "needs_background": "light"
          }
        }
      ]
    },
    {
      "cell_type": "markdown",
      "source": [
        "##Gaussian Naive Bayes"
      ],
      "metadata": {
        "id": "yfZJtAXLmZPM"
      }
    },
    {
      "cell_type": "code",
      "source": [
        "from sklearn.naive_bayes import GaussianNB"
      ],
      "metadata": {
        "id": "w4mVGP21npUc"
      },
      "execution_count": 324,
      "outputs": []
    },
    {
      "cell_type": "code",
      "source": [
        "classifier_GNB = GaussianNB()\n",
        "classifier_GNB.fit(x_train, y_train)\n",
        "\n",
        "print('Score:', classifier_GNB.score(x_test, y_test))"
      ],
      "metadata": {
        "colab": {
          "base_uri": "https://localhost:8080/"
        },
        "id": "JP58wZ37bNIk",
        "outputId": "97069d1c-7a2e-4b21-bbb4-b7472d420b58"
      },
      "execution_count": 325,
      "outputs": [
        {
          "output_type": "stream",
          "name": "stdout",
          "text": [
            "Score: 0.7464946719012899\n"
          ]
        }
      ]
    },
    {
      "cell_type": "code",
      "source": [
        "Metricas(classifier_GNB.predict(x_test), y_test, 'Gaussian Naive Bayes')"
      ],
      "metadata": {
        "colab": {
          "base_uri": "https://localhost:8080/",
          "height": 500
        },
        "id": "h6TwJyX1eP_f",
        "outputId": "c68d8bf8-ad2d-4b04-c815-601d54febb08"
      },
      "execution_count": 326,
      "outputs": [
        {
          "output_type": "stream",
          "name": "stdout",
          "text": [
            "Level 1 (0): 97.76 % de acerto\n",
            "Level 2 (3): 0.00 % de acerto\n",
            "Level 3 (1): 13.82 % de acerto\n",
            "OIS (2): 0.00 % de acerto\n"
          ]
        },
        {
          "output_type": "display_data",
          "data": {
            "text/plain": [
              "<Figure size 432x432 with 1 Axes>"
            ],
            "image/png": "[encoded data removed]"
          },
          "metadata": {
            "needs_background": "light"
          }
        }
      ]
    },
    {
      "cell_type": "markdown",
      "source": [
        "##Random Forest Classifier"
      ],
      "metadata": {
        "id": "hm2Dy-rjfY1d"
      }
    },
    {
      "cell_type": "code",
      "source": [
        "from sklearn.ensemble import RandomForestClassifier"
      ],
      "metadata": {
        "id": "njEdI9FGftKK"
      },
      "execution_count": 327,
      "outputs": []
    },
    {
      "cell_type": "code",
      "source": [
        "classifier_RFC = RandomForestClassifier(n_jobs=-1)\n",
        "classifier_RFC.fit(x_train, y_train)\n",
        "\n",
        "print('Score:', classifier_RFC.score(x_test, y_test))"
      ],
      "metadata": {
        "colab": {
          "base_uri": "https://localhost:8080/"
        },
        "id": "SXAbXfEKfvpK",
        "outputId": "58c51365-19ba-40ec-9625-fe285734e616"
      },
      "execution_count": 328,
      "outputs": [
        {
          "output_type": "stream",
          "name": "stdout",
          "text": [
            "Score: 0.8480089736399327\n"
          ]
        }
      ]
    },
    {
      "cell_type": "code",
      "source": [
        "Metricas(classifier_RFC.predict(x_test), y_test, 'Random Forest Classifier')"
      ],
      "metadata": {
        "colab": {
          "base_uri": "https://localhost:8080/",
          "height": 500
        },
        "id": "fojSknK2gAhk",
        "outputId": "23a4366e-20d9-4a0a-89b3-06481a97f355"
      },
      "execution_count": 329,
      "outputs": [
        {
          "output_type": "stream",
          "name": "stdout",
          "text": [
            "Level 1 (0): 95.30 % de acerto\n",
            "Level 2 (3): 14.29 % de acerto\n",
            "Level 3 (1): 59.21 % de acerto\n",
            "OIS (2): 25.00 % de acerto\n"
          ]
        },
        {
          "output_type": "display_data",
          "data": {
            "text/plain": [
              "<Figure size 432x432 with 1 Axes>"
            ],
            "image/png": "[encoded data removed]"
          },
          "metadata": {
            "needs_background": "light"
          }
        }
      ]
    },
    {
      "cell_type": "markdown",
      "source": [
        "Devido aos estudos desenvolvidos anteriormente nesse notebook, desconfio que o motivo do bom score seja a boa relação entre data/hora do ocorrido e o level da ocorrência.\n",
        "Apesar da acurácia ter sido muito boa, para os level 1 e 2, a pequena quantidade de dados envolvendo os level 3 resultou em baixa relação de acerto de força mais elevada.\n",
        "\n",
        "Creio que uma melhor acurácia nesse ponto poderia se dar mesclado os dois level 3 em um para aumentar seu numero total."
      ],
      "metadata": {
        "id": "az_5ZNuscb0W"
      }
    },
    {
      "cell_type": "markdown",
      "source": [
        "# Questionamento 4\n",
        "\"Suponha que o modelo elaborado para o item 3 não possuiu acurácia razoável para os propósitos da consultoria. Visando aumentá-la, utilize uma ou mais das seguintes técnicas de Aprendizado de Máquina em uma nova versão do modelo:<br>\n",
        " a) Aprendizagem Profunda<br>\n",
        " b) Aumento Artificial de Dados (Data Augmentation)<br>\n",
        " c) Técnicas de Balanceamento de Dados (ex. SMOTE, under-sampling)<br><br>\n",
        "\n",
        "Foi possível melhorar a acurácia do modelo? A que se deve esse fato?\""
      ],
      "metadata": {
        "id": "NOlV8-ncLdAg"
      }
    },
    {
      "cell_type": "markdown",
      "source": [
        "##a) Aprendizagem Profunda"
      ],
      "metadata": {
        "id": "HihgzPp4imUY"
      }
    },
    {
      "cell_type": "markdown",
      "source": [
        "###Multi-layer Perceptron classifier"
      ],
      "metadata": {
        "id": "gFqluctAiVc5"
      }
    },
    {
      "cell_type": "code",
      "source": [
        "from sklearn.neural_network import MLPClassifier"
      ],
      "metadata": {
        "id": "fxiWvAqmgmwe"
      },
      "execution_count": 330,
      "outputs": []
    },
    {
      "cell_type": "code",
      "source": [
        "classifier_MLPC = MLPClassifier()\n",
        "classifier_MLPC.fit(x_train, y_train)\n",
        "\n",
        "print('Score:', classifier_MLPC.score(x_test, y_test))"
      ],
      "metadata": {
        "id": "RgNeJwVibvlQ",
        "colab": {
          "base_uri": "https://localhost:8080/"
        },
        "outputId": "0fdcc268-4ad6-4df7-be09-1901a5b6670a"
      },
      "execution_count": 331,
      "outputs": [
        {
          "output_type": "stream",
          "name": "stdout",
          "text": [
            "Score: 0.7644419517666854\n"
          ]
        },
        {
          "output_type": "stream",
          "name": "stderr",
          "text": [
            "/usr/local/lib/python3.7/dist-packages/sklearn/neural_network/_multilayer_perceptron.py:696: ConvergenceWarning: Stochastic Optimizer: Maximum iterations (200) reached and the optimization hasn't converged yet.\n",
            "  ConvergenceWarning,\n"
          ]
        }
      ]
    },
    {
      "cell_type": "code",
      "source": [
        "Metricas(classifier_MLPC.predict(x_test), y_test, 'Multi-layer Perceptron classifier')"
      ],
      "metadata": {
        "colab": {
          "base_uri": "https://localhost:8080/",
          "height": 500
        },
        "id": "4YPSurZGhFXt",
        "outputId": "ad3b68cf-eab9-4d5c-bd1a-003d0dedd2c3"
      },
      "execution_count": 332,
      "outputs": [
        {
          "output_type": "stream",
          "name": "stdout",
          "text": [
            "Level 1 (0): 92.98 % de acerto\n",
            "Level 2 (3): 7.14 % de acerto\n",
            "Level 3 (1): 34.21 % de acerto\n",
            "OIS (2): 0.00 % de acerto\n"
          ]
        },
        {
          "output_type": "display_data",
          "data": {
            "text/plain": [
              "<Figure size 432x432 with 1 Axes>"
            ],
            "image/png": "[encoded data removed]"
          },
          "metadata": {
            "needs_background": "light"
          }
        }
      ]
    },
    {
      "cell_type": "markdown",
      "source": [
        "##b) Aumento Artificial de Dados (Data Augmentation)"
      ],
      "metadata": {
        "id": "eH4MtYJpi0l7"
      }
    },
    {
      "cell_type": "code",
      "source": [
        "X = df[['Beat', 'Officer_ID', 'Subject_Race', 'Subject_Gender', 'Occured_year', 'Occured_month', 'Occured_day', 'Occured_hour',\t'Occured_week_day']]\n",
        "Y = df[['Incident_Type']]"
      ],
      "metadata": {
        "id": "kIRUek8kXJ6j"
      },
      "execution_count": 333,
      "outputs": []
    },
    {
      "cell_type": "code",
      "source": [
        "for column in ['Beat', 'Subject_Race', 'Subject_Gender', 'Occured_year', 'Occured_month', 'Occured_day', 'Occured_hour', 'Occured_week_day']:\n",
        "    dct = dict([(x,i) for i,x in enumerate(X[column].unique())])\n",
        "    X[column] = X[column].map(dct)"
      ],
      "metadata": {
        "colab": {
          "base_uri": "https://localhost:8080/"
        },
        "id": "JqBchf20pYzW",
        "outputId": "02bbd8b3-2cf4-407d-a186-942a06d5a9a3"
      },
      "execution_count": 334,
      "outputs": [
        {
          "output_type": "stream",
          "name": "stderr",
          "text": [
            "/usr/local/lib/python3.7/dist-packages/ipykernel_launcher.py:3: SettingWithCopyWarning: \n",
            "A value is trying to be set on a copy of a slice from a DataFrame.\n",
            "Try using .loc[row_indexer,col_indexer] = value instead\n",
            "\n",
            "See the caveats in the documentation: https://pandas.pydata.org/pandas-docs/stable/user_guide/indexing.html#returning-a-view-versus-a-copy\n",
            "  This is separate from the ipykernel package so we can avoid doing imports until\n"
          ]
        }
      ]
    },
    {
      "cell_type": "code",
      "source": [
        "dct = dict([(y,i) for i,y in enumerate(Y['Incident_Type'].unique())])\n",
        "Y['Incident_Type'] = Y['Incident_Type'].map(dct)"
      ],
      "metadata": {
        "colab": {
          "base_uri": "https://localhost:8080/"
        },
        "id": "DlKAqFdnZTdt",
        "outputId": "ea1eb863-a766-4089-88cb-5fd630f387be"
      },
      "execution_count": 335,
      "outputs": [
        {
          "output_type": "stream",
          "name": "stderr",
          "text": [
            "/usr/local/lib/python3.7/dist-packages/ipykernel_launcher.py:2: SettingWithCopyWarning: \n",
            "A value is trying to be set on a copy of a slice from a DataFrame.\n",
            "Try using .loc[row_indexer,col_indexer] = value instead\n",
            "\n",
            "See the caveats in the documentation: https://pandas.pydata.org/pandas-docs/stable/user_guide/indexing.html#returning-a-view-versus-a-copy\n",
            "  \n"
          ]
        }
      ]
    },
    {
      "cell_type": "code",
      "source": [
        "import numpy as np\n",
        "from sklearn.impute import SimpleImputer"
      ],
      "metadata": {
        "id": "2bKGF3a1oFsW"
      },
      "execution_count": 336,
      "outputs": []
    },
    {
      "cell_type": "code",
      "source": [
        "imp_mean = SimpleImputer(missing_values=np.nan, strategy='mean')\n",
        "imp_mean.fit(X)\n",
        "X = imp_mean.transform(X)"
      ],
      "metadata": {
        "id": "ssSdTqDdr8XY"
      },
      "execution_count": 337,
      "outputs": []
    },
    {
      "cell_type": "code",
      "source": [
        "scaler = StandardScaler() \n",
        "X = scaler.fit_transform(X)\n",
        "\n",
        "lab = LabelEncoder()\n",
        "Y = lab.fit_transform(Y)\n",
        "\n",
        "x_train, x_test, y_train, y_test = train_test_split(X,Y, test_size=0.25)"
      ],
      "metadata": {
        "colab": {
          "base_uri": "https://localhost:8080/"
        },
        "id": "Xf9fzbZHpJjP",
        "outputId": "5c33fac6-a9cc-4eb2-d77b-abf47e12d3c1"
      },
      "execution_count": 338,
      "outputs": [
        {
          "output_type": "stream",
          "name": "stderr",
          "text": [
            "/usr/local/lib/python3.7/dist-packages/sklearn/preprocessing/_label.py:115: DataConversionWarning: A column-vector y was passed when a 1d array was expected. Please change the shape of y to (n_samples, ), for example using ravel().\n",
            "  y = column_or_1d(y, warn=True)\n"
          ]
        }
      ]
    },
    {
      "cell_type": "code",
      "source": [
        "classifier_RFC = RandomForestClassifier(n_jobs=-1)\n",
        "classifier_RFC.fit(x_train, y_train)\n",
        "\n",
        "print('Score:', classifier_RFC.score(x_test, y_test))"
      ],
      "metadata": {
        "colab": {
          "base_uri": "https://localhost:8080/"
        },
        "id": "DKJ5Ghqks02A",
        "outputId": "f930e68c-1018-4f84-a480-f8bed86db792"
      },
      "execution_count": 339,
      "outputs": [
        {
          "output_type": "stream",
          "name": "stdout",
          "text": [
            "Score: 0.8454851374088614\n"
          ]
        }
      ]
    },
    {
      "cell_type": "code",
      "source": [
        "Metricas(classifier_RFC.predict(x_test), y_test, 'Random Forest Classifier')"
      ],
      "metadata": {
        "colab": {
          "base_uri": "https://localhost:8080/",
          "height": 500
        },
        "id": "NmU5Gvwbtbsu",
        "outputId": "ea7edc96-4c04-46df-ca54-77b13712a6ad"
      },
      "execution_count": 340,
      "outputs": [
        {
          "output_type": "stream",
          "name": "stdout",
          "text": [
            "Level 1 (0): 96.36 % de acerto\n",
            "Level 2 (3): 17.39 % de acerto\n",
            "Level 3 (1): 58.65 % de acerto\n",
            "OIS (2): 32.43 % de acerto\n"
          ]
        },
        {
          "output_type": "display_data",
          "data": {
            "text/plain": [
              "<Figure size 432x432 with 1 Axes>"
            ],
            "image/png": "[encoded data removed]"
          },
          "metadata": {
            "needs_background": "light"
          }
        }
      ]
    },
    {
      "cell_type": "markdown",
      "source": [
        "##c) Técnicas de Balanceamento de Dados (ex. SMOTE, under-sampling)"
      ],
      "metadata": {
        "id": "KFG_Oia3i3TL"
      }
    }
  ]
}